{
 "cells": [
  {
   "cell_type": "markdown",
   "id": "5de4f887-22d7-49af-991b-c48a2ef35b91",
   "metadata": {},
   "source": [
    "# Section 2 Python Introduction\n",
    "\n",
    "In this section we will explore the fundamentals of running Python code. We will look at the basic units of Python code (\"Statements\") and how the Python Interpreter converts them into code the computer can understand.\n",
    "\n",
    "## Python Interpreter\n",
    "\n",
    "We won't get too indepth on how Python code is executed, but this section will give you a sneak peak at what Computer Scientists think about when writing code.\n",
    "\n",
    "At a high level, a computer has something called a CPU (central processing unit) which is a piece of hardware which can follow very very basic instructions. [Here is an example](https://os.mbed.com/media/uploads/4180_1/cortexm0_instructions.htm) of a common set of instructions. You'll notice that there isn't a whole lot it can do. However, these fundamental instructions are all you need to build up complex logic.\n",
    "\n",
    "This is were the Python Interpreter comes into play. The Python Interpreter is able to convert the Python code we write into the basic instructions the CPU understands.\n",
    "\n",
    "If you continue your Computer Science journey, you'll learn all about how a CPU handles instructions and the different ways you can take programming languages and convert them into CPU intructions.\n",
    "\n",
    "## Python Statements and Mathematical Operations\n",
    "\n",
    "The most basic unit of Python are statements. Python is what we call a \"high level language\" which just means it reads a bit like human language. For example, below is the code to find the sum of `5 + 5`"
   ]
  },
  {
   "cell_type": "code",
   "execution_count": 1,
   "id": "b5274c95-e334-4e2d-8b58-c023e6fd4be7",
   "metadata": {},
   "outputs": [
    {
     "data": {
      "text/plain": [
       "10"
      ]
     },
     "execution_count": 1,
     "metadata": {},
     "output_type": "execute_result"
    }
   ],
   "source": [
    "5+5"
   ]
  },
  {
   "cell_type": "markdown",
   "id": "05f7d30e-6583-407d-a276-5e6db7a70a15",
   "metadata": {},
   "source": [
    "Run the cell above and you will get your result. Python supports a large range of mathematical operations. Below is a table showing most of them.\n",
    "\n",
    "| Operation           | Symbol   | Example   | Result |\n",
    "|---------------------|----------|-----------|--------|\n",
    "| Addition            | `+`      | `5 + 5`   | 10     |\n",
    "| Subtraction         | `-`      | `5 - 5`   | 0      |\n",
    "| Multiplication      | `*`      | `5 * 5`   | 25     |\n",
    "| Division            | `/`      | `5 / 5`   | 1      |\n",
    "| Exponentiation      | `**`     | `5 ** 2`  | 25     |\n",
    "| Modulus (Remainder) | `%`      | `8 % 3`   | 2      |\n",
    "\n",
    "You can write out more complex math statements in a single line as shown below. Python follows the standard order of operations. Remember PEMDAs!"
   ]
  },
  {
   "cell_type": "code",
   "execution_count": 2,
   "id": "808a2bb8-09a9-4a10-a1ce-d17a0c068dee",
   "metadata": {},
   "outputs": [
    {
     "data": {
      "text/plain": [
       "4.0"
      ]
     },
     "execution_count": 2,
     "metadata": {},
     "output_type": "execute_result"
    }
   ],
   "source": [
    "(5 + 3) / 4 * 2"
   ]
  },
  {
   "cell_type": "markdown",
   "id": "5be7f095-037e-4760-98c1-bead341b0848",
   "metadata": {},
   "source": [
    "In the cell below, try to write out a Python statement that will result in the number \"30\" using at least 3 numbers."
   ]
  },
  {
   "cell_type": "code",
   "execution_count": null,
   "id": "8a66dc24-62af-47b5-8ab0-4fa1e546e849",
   "metadata": {},
   "outputs": [],
   "source": []
  },
  {
   "cell_type": "markdown",
   "id": "07d9e724-20ec-45a7-ad0c-c60bf82895f0",
   "metadata": {},
   "source": [
    "## Variables\n",
    "\n",
    "Great! So now we know how to write basic math statements, but how can we build these up to do more complex operations?\n",
    "\n",
    "It would be nice to store our results to then re-use them. This gets us to the point of \"Variables\". Like in Algebra, we use variables to represent the value of something.\n",
    "\n",
    "Variables can be named anything as long as it follows the following rules.\n",
    "\n",
    "1. Must start with a letter or underscore\n",
    "2. Cannot start with a number\n",
    "3. Can only container alpha-numeric characters an underscore\n",
    "\n",
    "Below is an example you probably have seen from math class."
   ]
  },
  {
   "cell_type": "code",
   "execution_count": 6,
   "id": "7d108ef0-8e11-465c-a459-d2411af1770d",
   "metadata": {},
   "outputs": [],
   "source": [
    "x = 5 + 10"
   ]
  },
  {
   "cell_type": "code",
   "execution_count": 7,
   "id": "f5c55797-c7c6-4625-a646-aab31cae6da2",
   "metadata": {},
   "outputs": [
    {
     "data": {
      "text/plain": [
       "15"
      ]
     },
     "execution_count": 7,
     "metadata": {},
     "output_type": "execute_result"
    }
   ],
   "source": [
    "x"
   ]
  },
  {
   "cell_type": "markdown",
   "id": "1cb16705-eed8-4f1c-a85d-16d3793356f9",
   "metadata": {},
   "source": [
    "We can see that `x` now stores the value of 15. What we just wrote is known as an \"assignment\" statement. We \"assigned\" `x` the value of the Python expression `5 + 10`. Now we can use the value of `x` like any other number"
   ]
  },
  {
   "cell_type": "code",
   "execution_count": 8,
   "id": "192b3e62-a7ca-4509-84ba-d1582ceba82e",
   "metadata": {},
   "outputs": [
    {
     "data": {
      "text/plain": [
       "25"
      ]
     },
     "execution_count": 8,
     "metadata": {},
     "output_type": "execute_result"
    }
   ],
   "source": [
    "x + 10"
   ]
  },
  {
   "cell_type": "markdown",
   "id": "bc2ad79d-97ab-4a94-9ba8-fabee9ab95f0",
   "metadata": {},
   "source": [
    "We can also re-assign `x` to be a new number"
   ]
  },
  {
   "cell_type": "code",
   "execution_count": 9,
   "id": "d3c92bf8-5371-493f-b986-cf554572080f",
   "metadata": {},
   "outputs": [],
   "source": [
    "x = 11"
   ]
  },
  {
   "cell_type": "code",
   "execution_count": 10,
   "id": "e5594f95-29aa-4396-9e3c-f0b0b57c1d5b",
   "metadata": {},
   "outputs": [
    {
     "data": {
      "text/plain": [
       "21"
      ]
     },
     "execution_count": 10,
     "metadata": {},
     "output_type": "execute_result"
    }
   ],
   "source": [
    "x + 10"
   ]
  },
  {
   "cell_type": "markdown",
   "id": "943d3468-8df8-4810-abb7-59191c29c583",
   "metadata": {},
   "source": [
    "We can name variables anything we like, but the best practice is to use names that explain what your code is doing. For example, below are two cells that do the same thing. Which do you prefer?"
   ]
  },
  {
   "cell_type": "code",
   "execution_count": 11,
   "id": "c26dd8f8-1cb9-4769-b1c5-24071dd5acf8",
   "metadata": {},
   "outputs": [
    {
     "data": {
      "text/plain": [
       "31.400000000000002"
      ]
     },
     "execution_count": 11,
     "metadata": {},
     "output_type": "execute_result"
    }
   ],
   "source": [
    "pi = 3.14\n",
    "radius = 5\n",
    "wheel_circumference = 2 * pi * radius\n",
    "wheel_circumference"
   ]
  },
  {
   "cell_type": "code",
   "execution_count": 12,
   "id": "d7100e63-7db9-410e-9480-6084023d91cb",
   "metadata": {},
   "outputs": [
    {
     "data": {
      "text/plain": [
       "31.400000000000002"
      ]
     },
     "execution_count": 12,
     "metadata": {},
     "output_type": "execute_result"
    }
   ],
   "source": [
    "a = 3.14\n",
    "b = 5\n",
    "c = 2 * a * b\n",
    "c"
   ]
  },
  {
   "cell_type": "markdown",
   "id": "fafd1725-07b6-4e63-9f66-754e8de3b582",
   "metadata": {},
   "source": [
    "Now is you're chance to write some code. Try to write code, like above, but to find the area of a triangle. You'll have two variables. One to store the perpendicular height of the triangle, the other the base.\n",
    "\n",
    "The formula for the area of a triangle is below.\n",
    "\n",
    "$$\n",
    "A = \\frac{h_b \\cdot b}{2}\n",
    "$$"
   ]
  },
  {
   "cell_type": "code",
   "execution_count": null,
   "id": "8303ecd8-482d-4183-8ef2-c564f6ba3617",
   "metadata": {},
   "outputs": [],
   "source": []
  }
 ],
 "metadata": {
  "kernelspec": {
   "display_name": "Python 3 (ipykernel)",
   "language": "python",
   "name": "python3"
  },
  "language_info": {
   "codemirror_mode": {
    "name": "ipython",
    "version": 3
   },
   "file_extension": ".py",
   "mimetype": "text/x-python",
   "name": "python",
   "nbconvert_exporter": "python",
   "pygments_lexer": "ipython3",
   "version": "3.11.5"
  }
 },
 "nbformat": 4,
 "nbformat_minor": 5
}
