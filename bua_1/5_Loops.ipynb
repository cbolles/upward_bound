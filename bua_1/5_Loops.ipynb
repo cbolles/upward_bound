{
 "cells": [
  {
   "cell_type": "markdown",
   "id": "b1636d9f-e4c7-4861-9cac-1bb0bfb8f25e",
   "metadata": {},
   "source": [
    "# Section 4 Review\n",
    "\n",
    "Based on the temperature, write a series of if/elif/else statements that will print the suggested clothing to wear based on the range of temperature.\n",
    "\n",
    "| Temperature Range | Clothing     |\n",
    "|-------------------|--------------|\n",
    "| < 40              | Winter Coat  |\n",
    "| 40-50             | Sweat Shirt  |\n",
    "| 50-65             | Light Jacket |\n",
    "| > 65              | T-shirt      |"
   ]
  },
  {
   "cell_type": "code",
   "execution_count": null,
   "id": "72372240-6fad-45d9-8ea2-ad33cf2160d5",
   "metadata": {},
   "outputs": [],
   "source": [
    "temperature = 75"
   ]
  }
 ],
 "metadata": {
  "kernelspec": {
   "display_name": "Python 3 (ipykernel)",
   "language": "python",
   "name": "python3"
  },
  "language_info": {
   "codemirror_mode": {
    "name": "ipython",
    "version": 3
   },
   "file_extension": ".py",
   "mimetype": "text/x-python",
   "name": "python",
   "nbconvert_exporter": "python",
   "pygments_lexer": "ipython3",
   "version": "3.9.13"
  }
 },
 "nbformat": 4,
 "nbformat_minor": 5
}
