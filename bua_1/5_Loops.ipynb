{
 "cells": [
  {
   "cell_type": "markdown",
   "id": "b1636d9f-e4c7-4861-9cac-1bb0bfb8f25e",
   "metadata": {},
   "source": [
    "# Section 4 Review\n",
    "\n",
    "Based on the temperature, write a series of if/elif/else statements that will print the suggested clothing to wear based on the range of temperature.\n",
    "\n",
    "| Temperature Range | Clothing     |\n",
    "|-------------------|--------------|\n",
    "| < 40              | Winter Coat  |\n",
    "| 40-50             | Sweat Shirt  |\n",
    "| 50-65             | Light Jacket |\n",
    "| > 65              | T-shirt      |"
   ]
  },
  {
   "cell_type": "code",
   "execution_count": null,
   "id": "72372240-6fad-45d9-8ea2-ad33cf2160d5",
   "metadata": {},
   "outputs": [],
   "source": [
    "temperature = 75"
   ]
  },
  {
   "cell_type": "markdown",
   "id": "53ae287d-15c1-4bac-9c99-32bc64775a07",
   "metadata": {},
   "source": [
    "# Section 5 Loops\n",
    "\n",
    "We know now know how to have code that runs differently based on conditions. This has let us have decisions in our code. The next step is having our code run multiple times based on some condition. We will consider a problem we have addressed several times so far.\n",
    "\n",
    "> We have a list of grades, we want the ability to calculate the average of the grades\n",
    "\n",
    "So far, we have implemented this approach by manually accessing each element and adding them together. This works, but what if we have 100 elements? What if you don't know before hand how many elements are in our list before we write the code? It would be nice to be able to write flexible code."
   ]
  },
  {
   "cell_type": "markdown",
   "id": "5875b635-3f6e-4a68-8323-4ebb82590d26",
   "metadata": {
    "tags": []
   },
   "source": [
    "## While Loops\n",
    "\n",
    "The first loop type we will talk about are `while` loops. Loops are blocks of code that keep running based on a condition. These conditions are just like the conditions we worked last time. While loops work based on the steps below.\n",
    "\n",
    "1. Check the condition\n",
    "2. If the condition is true run the block of code, otherwise exit the loop\n",
    "3. Go back to step 1\n",
    "\n",
    "Below is an example of a basic while loop."
   ]
  },
  {
   "cell_type": "code",
   "execution_count": 4,
   "id": "93f67958-f34e-4cac-88b5-698b98f5d38d",
   "metadata": {
    "tags": []
   },
   "outputs": [
    {
     "name": "stdout",
     "output_type": "stream",
     "text": [
      "0\n",
      "1\n",
      "2\n",
      "3\n",
      "4\n",
      "5\n",
      "6\n",
      "7\n",
      "8\n",
      "9\n"
     ]
    }
   ],
   "source": [
    "x = 0\n",
    "\n",
    "while x < 10:\n",
    "    print(x)\n",
    "    x = x + 1"
   ]
  },
  {
   "cell_type": "markdown",
   "id": "8a4e1851-ed0a-4525-b1d5-da880eb9637a",
   "metadata": {},
   "source": [
    "The structure is a lot like an `if` statement it follows the format.\n",
    "\n",
    "```\n",
    "while <condition>:\n",
    "    <code>\n",
    "```\n",
    "\n",
    "The body of the while loop will keep running as long as the condition is true. What happens if the condition is never `False`?\n",
    "\n",
    "When we create while loops, we want to consider the following steps\n",
    "\n",
    "1. Initializing our \"loop\" variable\n",
    "2. Writing the condition\n",
    "3. Updating our loop variable\n",
    "\n",
    "For example, lets consider the task \"print every even number starting from the number 2 up to and including the number 20\". Let's write this together"
   ]
  },
  {
   "cell_type": "code",
   "execution_count": null,
   "id": "af0285b6-0236-41ce-a2bf-de48caebb99d",
   "metadata": {},
   "outputs": [],
   "source": []
  },
  {
   "cell_type": "markdown",
   "id": "72b1ec10-e7a1-4383-9e78-b1eb45820820",
   "metadata": {},
   "source": [
    "Lets see how we can use our while loops to make our average calculator cleaner.\n",
    "\n",
    "1. How should we initialize our variable?\n",
    "2. What is the condition we should consider?\n",
    "3. How should we update our variable?"
   ]
  },
  {
   "cell_type": "code",
   "execution_count": null,
   "id": "8501f320-c09e-470f-af32-104ccc69c290",
   "metadata": {},
   "outputs": [],
   "source": []
  },
  {
   "cell_type": "markdown",
   "id": "514536bd-f237-40a5-99c5-e57b76cebc07",
   "metadata": {},
   "source": [
    "Now try to write out your own program using a while loop. For this program, you will be given a number between 0-100 and some number to guess. Your program will keep trying numbers until it finds the answer."
   ]
  },
  {
   "cell_type": "code",
   "execution_count": null,
   "id": "169caf90-0b44-4f30-88bf-61b74c1ec812",
   "metadata": {
    "tags": []
   },
   "outputs": [],
   "source": []
  },
  {
   "cell_type": "code",
   "execution_count": null,
   "id": "c9f68d84-35c1-465b-8e3a-aa425faea720",
   "metadata": {},
   "outputs": [],
   "source": []
  }
 ],
 "metadata": {
  "kernelspec": {
   "display_name": "Python 3 (ipykernel)",
   "language": "python",
   "name": "python3"
  },
  "language_info": {
   "codemirror_mode": {
    "name": "ipython",
    "version": 3
   },
   "file_extension": ".py",
   "mimetype": "text/x-python",
   "name": "python",
   "nbconvert_exporter": "python",
   "pygments_lexer": "ipython3",
   "version": "3.9.13"
  }
 },
 "nbformat": 4,
 "nbformat_minor": 5
}
