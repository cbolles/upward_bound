{
 "cells": [
  {
   "cell_type": "markdown",
   "id": "e2697d9b",
   "metadata": {},
   "source": [
    "# Section 3 Talking to the Internet\n",
    "\n",
    "We are ready to get into one of the main goals of this program. How to interact with the rest of the world across the internet using code. This skill is used across many areas of software engineering. We'll start with a high level look at how we share information across the internet, then get into some specific examples of requesting data."
   ]
  },
  {
   "cell_type": "markdown",
   "id": "cb031ab8",
   "metadata": {},
   "source": [
    "## How We Request Data\n",
    "\n",
    "There is a lot that can be said about how the internet works and how we can request something from out on the internet and how a response is sent back. For the purpose of this program we will just talk about the pieces needed to write code to get what we need from the internet.\n",
    "\n",
    "### Anatomy of a URL\n",
    "\n",
    "The first part we need to talk about is what a URL is made up of. It shows up at the top of your browser, but you may not have considered what the different elements mean.\n",
    "\n",
    "Below is a break down of an example URL. The URL is what you get if you Google \"Where do elephants live\".\n",
    "\n",
    "```\n",
    "https://www.google.com/search?q=where+do+elephants+live&oq=where+do+elephant&aqs=chrome.0.0i512j69i57j0i512l8.3715j1j7&sourceid=chrome&ie=UTF-8\n",
    "```\n",
    "\n",
    "The general format is as follows.\n",
    "\n",
    "```\n",
    "<protocol>://<domain name>/<path>?<parameters>\n",
    "```\n",
    "\n",
    "#### Protocol\n",
    "\n",
    "```\n",
    "https://\n",
    "```\n",
    "\n",
    "This is the means that communication will take place between the client (in this case the browser) and the server (Google's hardware in this case). The protocols we will use are HTTP and HTTPS. HTTPS is the secure version of HTTP, but for our discussion we can largely treat them the same.\n",
    "\n",
    "#### Domain Name\n",
    "\n",
    "```\n",
    "google.com\n",
    "```\n",
    "\n",
    "This is the entity you are trying to talk to. In this case its Google. Entities by domain names that then route back to their servers. The domain name is used to determine what server needs to be talked through.\n",
    "\n",
    "#### Path\n",
    "\n",
    "```\n",
    "/search\n",
    "```\n",
    "\n",
    "The path specified a specific resource you are requesting. The exact meaning of the path is determined by the server so the only way to find out what path's to use is to go through the server itself. Usually this is handled view buttons on websites that do the navigation through the paths for us. Next time you are on a website and are clicking around, see how the path changes.\n",
    "\n",
    "#### Parameters\n",
    "\n",
    "```\n",
    "q=where+do+elephants+live&oq=where+do+elephant&aqs=chrome.0.0i512j69i57j0i512l8.3715j1j7&sourceid=chrome&ie=UTF-8\n",
    "```\n",
    "\n",
    "Parameters are other pieces of information that are sent to the server that allow the server the information it needs to complete the request (kinda like parameters in Python functions). Parameters come after the question mark and are key-value pairs. `&` is used to seperate the different parameters. In the example above the following parameters are in the URL.\n",
    "\n",
    "| Key        | Value                                   |\n",
    "|------------|-----------------------------------------|\n",
    "| `q`        | `where+do+elephants+live`               |\n",
    "| `oq`       | `where+do+elephant`                     |\n",
    "| `aqs`      | `chrome.0.0i512j69i57j0i512l8.3715j1j7` |\n",
    "| `sourceid` | `chrome`                                |\n",
    "| `ie`       | `UTF-8`                                 |\n",
    "\n",
    "This isn't all of the information that is sent by the browser, we will discuss later how additional information is sent across the internet.\n",
    "\n",
    "The key take aways is that URLs are structured following a pattern and later on we will use this pattern to make more pointed requests.\n",
    "\n",
    "### Request Types\n",
    "\n",
    "When making HTTP requests, where is a verb associated with each request. That verb is used to describe the kind of request you are making. Below are listed the main request types and their uses.\n",
    "\n",
    "| Operation | Use                                           | Example                          |\n",
    "|-----------|-----------------------------------------------|----------------------------------|\n",
    "| GET       | Request information from the server           | Searching something on Google    |\n",
    "| POST      | Making new information to store on the server | Creating a new post on instagram |\n",
    "| PUT       | Making changes to existing data               | Editing a slack message          |\n",
    "| DELETE    | Remove a piece of information                 | Deleting a post on instagram     |\n",
    "\n",
    "There are other request methods supported by HTTP, but these are the main ones we will work with. Something tricky with these request methods is that they are mostly suggestions on how they are used. One server may not use `PUT` but use `POST` for any request requiring changing data.\n",
    "\n",
    "### HTTP Response Codes\n",
    "\n",
    "When making HTTP requests, you will get a response code from the server that details the success/failure of the request. A code you may be familiar with is `404` which is used when the resource you are looking for is not found. There are tons of different codes so we wont look at all of them. However they are helpfully broken up into classes.\n",
    "\n",
    "HTTP response codes are just numbers so to figure out what exactly a specific code means you will need to look it up.\n",
    "\n",
    "| Class                  | Code Range | Purpose|\n",
    "|------------------------|------------|-------------------------------------------------------------------|\n",
    "| Information Responses  | 100-109    | Give user information on a request                                |\n",
    "| Successful Responses   | 200-299    | Descibe requests that where a success                             |\n",
    "| Client Error Responses | 400-499    | Provide information on why your request was invalid               |\n",
    "| Server Error Responses | 500-599    | Provide information on why the server failed to make your request |\n",
    "\n",
    "Credit [Mozilla](https://developer.mozilla.org/en-US/docs/Web/HTTP)\n",
    "\n",
    "My personal favorite HTTP code is `418`.\n",
    "\n",
    "\n",
    "## Making Requests in Python\n",
    "\n",
    "Now that we've seen how HTTP requests work in the context of our browser, lets see how we you make requests using Python. The easies way is with a package (a library written by some user/organization) called `requests`. Below is a snippet of Python code that makes the same Google search as above, but in Python."
   ]
  },
  {
   "cell_type": "code",
   "execution_count": null,
   "id": "5700977a",
   "metadata": {},
   "outputs": [],
   "source": [
    "import requests\n",
    "\n",
    "result = requests.get('https://www.google.com/search?q=where+do+elephants+live&oq=where+do+elephant&aqs=chrome.0.0i512j69i57j0i512l8.3715j1j7&sourceid=chrome&ie=UTF-8')\n",
    "\n",
    "status_code = result.status_code\n",
    "print('The HTTP status code of the GET request was: {}\\n\\n'.format(status_code))\n",
    "\n",
    "# The next lines print \n",
    "result_body = result.text\n",
    "print('The response body is: {}'.format(result_body))\n"
   ]
  },
  {
   "cell_type": "markdown",
   "id": "113afd1d",
   "metadata": {},
   "source": [
    "What is up with the response body?\n",
    "\n",
    "## Program Friendly Format\n",
    "\n",
    "So we saw that simply making the request does not give us something that is easy to work with in Python. Luckily there are formats designed for talking across the internet and digesting that information in a computer friendly way. The format we will talk about the most is JSON (Javascript Option Notation). JSON is a format of representing data as key value pairs. Below is an example JSON object to describe a person.\n",
    "\n",
    "```json\n",
    "{\n",
    "    \"name\": \"Collin Bolles\",\n",
    "    \"age\": 23,\n",
    "    \"occupation\": \"Software Engineer\"\n",
    "}\n",
    "```\n",
    "\n",
    "What data type in Python have we talked about that is closest to JSON?\n",
    "\n",
    "## REST API\n",
    "\n",
    "So we now know we can't just make requests to any server and expect to get back data that is easy for us to parse. These such endpoints are typicalled referred to as REST APIs.\n",
    "\n",
    "There are TONS of REST APIs out there that range in capabilities. Take a second a check out [this list](https://github.com/public-apis/public-apis) of just some of the free APIs that exist.\n",
    "\n",
    "For this section we will be using PokéAPI, a free to use API on Pokémon. Its a very conprehensive API and a good starting point.\n",
    "\n",
    "Lets first apply what we've already learned about URLs to analyze the URL below.\n",
    "\n",
    "```\n",
    "https://pokeapi.co/api/v2/pokemon/charmander\n",
    "```\n",
    "\n",
    "Now lets make our request using the URL above."
   ]
  },
  {
   "cell_type": "code",
   "execution_count": null,
   "id": "9c2a0ed5",
   "metadata": {},
   "outputs": [],
   "source": [
    "result = requests.get('https://pokeapi.co/api/v2/pokemon/charmander')\n",
    "print(result.json())"
   ]
  },
  {
   "cell_type": "markdown",
   "id": "bf0bdbc3",
   "metadata": {},
   "source": [
    "We get back a lot of information. We can use their website to more easily navigate the data since they provide a custom data viewer. But lets try using this data to answer a question. What are all the names of every ability the Pokémon could have?"
   ]
  },
  {
   "cell_type": "code",
   "execution_count": null,
   "id": "a59156db",
   "metadata": {},
   "outputs": [],
   "source": [
    "data = result.json()\n",
    "for ability in data['abilities']:\n",
    "    print(ability['ability']['name'])"
   ]
  },
  {
   "cell_type": "markdown",
   "id": "614e3bd7",
   "metadata": {},
   "source": [
    "Now try to get the name of all the stats that PokéAPI has on Charmander in the section below."
   ]
  },
  {
   "cell_type": "code",
   "execution_count": null,
   "id": "bdb00a49",
   "metadata": {},
   "outputs": [],
   "source": []
  },
  {
   "cell_type": "markdown",
   "id": "17db727b",
   "metadata": {},
   "source": [
    "Lets now work as a group to go through the documentation of the API and try to answer some questions by parsing the data."
   ]
  },
  {
   "cell_type": "code",
   "execution_count": null,
   "id": "dde05529",
   "metadata": {},
   "outputs": [],
   "source": []
  }
 ],
 "metadata": {
  "kernelspec": {
   "display_name": "Python 3 (ipykernel)",
   "language": "python",
   "name": "python3"
  },
  "language_info": {
   "codemirror_mode": {
    "name": "ipython",
    "version": 3
   },
   "file_extension": ".py",
   "mimetype": "text/x-python",
   "name": "python",
   "nbconvert_exporter": "python",
   "pygments_lexer": "ipython3",
   "version": "3.10.10"
  }
 },
 "nbformat": 4,
 "nbformat_minor": 5
}
