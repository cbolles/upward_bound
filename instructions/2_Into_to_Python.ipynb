{
 "cells": [
  {
   "cell_type": "markdown",
   "id": "a0fa8f63-200b-46b3-b273-734d5fde6e1c",
   "metadata": {},
   "source": [
    "# Section 2 Python Basics\n",
    "\n",
    "In this section we will go over some of the basics of Python. We will see some of the fundamental building blocks we will use throughout the program. This is by no means fully comprehensive, so please ask plenty of questions and look up anything you may need additional examples for.\n",
    "\n",
    "## Basic Statements\n",
    "\n",
    "Python is made up of a series of statements which are then executed by the computer. Statements typically contain the \"logic\" that you are trying to implement. Below is a very basic statement which adds two numbers together. "
   ]
  },
  {
   "cell_type": "code",
   "execution_count": 1,
   "id": "c4b02d0c-9179-4052-9ec3-5014974eaf36",
   "metadata": {
    "tags": []
   },
   "outputs": [
    {
     "data": {
      "text/plain": [
       "10"
      ]
     },
     "execution_count": 1,
     "metadata": {},
     "output_type": "execute_result"
    }
   ],
   "source": [
    "5 + 5"
   ]
  },
  {
   "cell_type": "markdown",
   "id": "c7cbded3-4ad0-4346-b1ac-882cb0531e3e",
   "metadata": {},
   "source": [
    "Thanks to Jupyter, the result of the statement is given back to us.\n",
    "\n",
    "As you can see, the statement in this case was a mathematical operation. Python supports your typical mathematical operations (and some not usually seen in a math class).\n",
    "\n",
    "Feel free to play around with the mathematical operations to prove to yourself that they work as you expect.\n",
    "\n",
    "| Operation           | Symbol   | Example   | Result |\n",
    "|---------------------|----------|-----------|--------|\n",
    "| Addition            | `+`      | `5 + 5`   | 10     |\n",
    "| Subtraction         | `-`      | `5 - 5`   | 0      |\n",
    "| Multiplication      | `*`      | `5 * 5`   | 25     |\n",
    "| Division            | `/`      | `5 / 5`   | 1      |\n",
    "| Exponentiation      | `**`     | `5 ** 2`  | 25     |\n",
    "| Modulus (Remainder) | `%`      | `8 % 3`   | 2      |\n",
    "\n",
    "You can write compound statements like the one below. Remember your PEMDAs!"
   ]
  },
  {
   "cell_type": "code",
   "execution_count": 6,
   "id": "4faa69e9-1a76-42e1-964f-02b0a1f43db7",
   "metadata": {
    "tags": []
   },
   "outputs": [
    {
     "data": {
      "text/plain": [
       "4.0"
      ]
     },
     "execution_count": 6,
     "metadata": {},
     "output_type": "execute_result"
    }
   ],
   "source": [
    "(5 + 3) / 4 * 2"
   ]
  },
  {
   "cell_type": "markdown",
   "id": "c3872d11-093f-4cb7-bcf9-a42b0e669c45",
   "metadata": {},
   "source": [
    "## Variables\n",
    "\n",
    "Now that we have seen that we can write out mathematical expressions. Lets learn about how we can store these values and use them elsewhere.\n",
    "\n",
    "We can store the result of an expression into something called a variable. Python variables are very similar to variables that you find in math. Both are used to represent a value and write cleaner expressions.\n",
    "\n",
    "In Python we give a variable a value using something called an assignment statement. Below is an example."
   ]
  },
  {
   "cell_type": "code",
   "execution_count": 5,
   "id": "bbcba651-607a-46ec-bbaa-efe8000aaa97",
   "metadata": {
    "tags": []
   },
   "outputs": [],
   "source": [
    "x = 5"
   ]
  },
  {
   "cell_type": "markdown",
   "id": "ee301e18-d25e-424f-8eb3-cc947630142e",
   "metadata": {},
   "source": [
    "In the statement above we are doing two things.\n",
    "\n",
    "1. Making a variable called `x`\n",
    "2. Assigning the value of `5` to `x`\n",
    "\n",
    "Something to note is that we are using the equals to assign a value. This is a little different then how we use `=` in mathematics which will become more obvious later on.\n",
    "\n",
    "Next we will show off how we can use variables in expressions. Below I've taken the equation from the previous subsection and replaced one of the values with `x`"
   ]
  },
  {
   "cell_type": "code",
   "execution_count": 6,
   "id": "d094ed89-7818-4e99-ba51-f9933e0abe89",
   "metadata": {
    "tags": []
   },
   "outputs": [
    {
     "data": {
      "text/plain": [
       "4.0"
      ]
     },
     "execution_count": 6,
     "metadata": {},
     "output_type": "execute_result"
    }
   ],
   "source": [
    "(x + 3) / 4 * 2"
   ]
  },
  {
   "cell_type": "markdown",
   "id": "29a60397-6185-48d5-aa3e-aeed212aa971",
   "metadata": {},
   "source": [
    "As you can see, the expression is evaluated before with whatever is stored in `x`.\n",
    "\n",
    "Another thing we can do with variables is re-assign them. Using the equals operator again we can give `x` a different value."
   ]
  },
  {
   "cell_type": "code",
   "execution_count": 3,
   "id": "46efd2a3-4cb7-4b78-bc6d-4dc095609c17",
   "metadata": {
    "tags": []
   },
   "outputs": [],
   "source": [
    "x = 10"
   ]
  },
  {
   "cell_type": "markdown",
   "id": "b6bf950a-9b1e-4c76-bae0-8d8e968a632a",
   "metadata": {},
   "source": [
    "Something to note, Python executes code line-by-line, so when you re-assign a variable. That will effect the following lines. Below is an example."
   ]
  },
  {
   "cell_type": "code",
   "execution_count": 7,
   "id": "13281d3f-9dc4-42e6-8cc4-eba3f0da9457",
   "metadata": {
    "tags": []
   },
   "outputs": [
    {
     "name": "stdout",
     "output_type": "stream",
     "text": [
      "10\n",
      "20\n"
     ]
    }
   ],
   "source": [
    "x = 10\n",
    "print(x)\n",
    "x = 20\n",
    "print(x)"
   ]
  },
  {
   "cell_type": "markdown",
   "id": "5d62b14f-cfdc-4279-b109-20bf01bbe3b2",
   "metadata": {},
   "source": [
    "One last thing to mention about variables is that you can (and should) give them descriptive names. In the above simple examples `x` has been used. However in general you should always give variables a name that describes their use.\n",
    "\n",
    "Variable names cannot have spaces, cannot start with a number, and you can break up longer names using `_`.\n",
    "\n",
    "Below are two pieces of code that do the exact same thing, which one would you rather have to read?"
   ]
  },
  {
   "cell_type": "code",
   "execution_count": 12,
   "id": "17295f6f-abda-41cd-a9ab-5da0ba80486b",
   "metadata": {
    "tags": []
   },
   "outputs": [
    {
     "name": "stdout",
     "output_type": "stream",
     "text": [
      "31.400000000000002\n"
     ]
    }
   ],
   "source": [
    "pi = 3.14\n",
    "radius = 5\n",
    "wheel_circumference = 2 * pi * radius\n",
    "print(wheel_circumference)"
   ]
  },
  {
   "cell_type": "code",
   "execution_count": 13,
   "id": "0d6f0427-c8ff-40f8-b51b-6289fe247484",
   "metadata": {
    "tags": []
   },
   "outputs": [
    {
     "name": "stdout",
     "output_type": "stream",
     "text": [
      "31.400000000000002\n"
     ]
    }
   ],
   "source": [
    "a = 3.14\n",
    "b = 5\n",
    "c = 2 * a * b\n",
    "print(c)"
   ]
  },
  {
   "cell_type": "markdown",
   "id": "709fa10b-10f9-445a-a6c1-1bca615730d7",
   "metadata": {},
   "source": [
    "Now you try to write out a Python snippet like the ones above. Instead of calculating the circumference of a wheel. You'll calculate the area of a triangle. You'll need variables to store the perpendicular height and the base.\n",
    "\n",
    "As a reminder the equation for the area of a triangle is\n",
    "\n",
    "$$\n",
    "A = \\frac{h_b \\cdot b}{2}\n",
    "$$"
   ]
  },
  {
   "cell_type": "code",
   "execution_count": null,
   "id": "8c5cf668-1c99-4416-b4e2-a4de6d48eea7",
   "metadata": {},
   "outputs": [],
   "source": []
  },
  {
   "cell_type": "code",
   "execution_count": null,
   "id": "a07aeedd-c234-4135-adc9-df6e1c9f4173",
   "metadata": {},
   "outputs": [],
   "source": []
  }
 ],
 "metadata": {
  "kernelspec": {
   "display_name": "Python 3 (ipykernel)",
   "language": "python",
   "name": "python3"
  },
  "language_info": {
   "codemirror_mode": {
    "name": "ipython",
    "version": 3
   },
   "file_extension": ".py",
   "mimetype": "text/x-python",
   "name": "python",
   "nbconvert_exporter": "python",
   "pygments_lexer": "ipython3",
   "version": "3.10.10"
  }
 },
 "nbformat": 4,
 "nbformat_minor": 5
}
