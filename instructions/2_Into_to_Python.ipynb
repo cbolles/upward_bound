{
 "cells": [
  {
   "cell_type": "markdown",
   "id": "a0fa8f63-200b-46b3-b273-734d5fde6e1c",
   "metadata": {},
   "source": [
    "# Section 2 Python Basics\n",
    "\n",
    "In this section we will go over some of the basics of Python. We will see some of the fundamental building blocks we will use throughout the program. This is by no means fully comprehensive, so please ask plenty of questions and look up anything you may need additional examples for.\n",
    "\n",
    "## Basic Statements\n",
    "\n",
    "Python is made up of a series of statements which are then executed by the computer. Statements typically contain the \"logic\" that you are trying to implement. Below is a very basic statement which adds two numbers together. "
   ]
  },
  {
   "cell_type": "code",
   "execution_count": null,
   "id": "c4b02d0c-9179-4052-9ec3-5014974eaf36",
   "metadata": {
    "tags": []
   },
   "outputs": [],
   "source": [
    "5 + 5"
   ]
  },
  {
   "cell_type": "markdown",
   "id": "c7cbded3-4ad0-4346-b1ac-882cb0531e3e",
   "metadata": {},
   "source": [
    "Thanks to Jupyter, the result of the statement is given back to us.\n",
    "\n",
    "As you can see, the statement in this case was a mathematical operation. Python supports your typical mathematical operations (and some not usually seen in a math class).\n",
    "\n",
    "Feel free to play around with the mathematical operations to prove to yourself that they work as you expect.\n",
    "\n",
    "| Operation           | Symbol   | Example   | Result |\n",
    "|---------------------|----------|-----------|--------|\n",
    "| Addition            | `+`      | `5 + 5`   | 10     |\n",
    "| Subtraction         | `-`      | `5 - 5`   | 0      |\n",
    "| Multiplication      | `*`      | `5 * 5`   | 25     |\n",
    "| Division            | `/`      | `5 / 5`   | 1      |\n",
    "| Exponentiation      | `**`     | `5 ** 2`  | 25     |\n",
    "| Modulus (Remainder) | `%`      | `8 % 3`   | 2      |\n",
    "\n",
    "You can write compound statements like the one below. Remember your PEMDAs!"
   ]
  },
  {
   "cell_type": "code",
   "execution_count": null,
   "id": "4faa69e9-1a76-42e1-964f-02b0a1f43db7",
   "metadata": {
    "tags": []
   },
   "outputs": [],
   "source": [
    "(5 + 3) / 4 * 2"
   ]
  },
  {
   "cell_type": "markdown",
   "id": "c3872d11-093f-4cb7-bcf9-a42b0e669c45",
   "metadata": {},
   "source": [
    "## Variables\n",
    "\n",
    "Now that we have seen that we can write out mathematical expressions. Lets learn about how we can store these values and use them elsewhere.\n",
    "\n",
    "We can store the result of an expression into something called a variable. Python variables are very similar to variables that you find in math. Both are used to represent a value and write cleaner expressions.\n",
    "\n",
    "In Python we give a variable a value using something called an assignment statement. Below is an example."
   ]
  },
  {
   "cell_type": "code",
   "execution_count": null,
   "id": "bbcba651-607a-46ec-bbaa-efe8000aaa97",
   "metadata": {
    "tags": []
   },
   "outputs": [],
   "source": [
    "x = 5"
   ]
  },
  {
   "cell_type": "markdown",
   "id": "ee301e18-d25e-424f-8eb3-cc947630142e",
   "metadata": {},
   "source": [
    "In the statement above we are doing two things.\n",
    "\n",
    "1. Making a variable called `x`\n",
    "2. Assigning the value of `5` to `x`\n",
    "\n",
    "Something to note is that we are using the equals to assign a value. This is a little different then how we use `=` in mathematics which will become more obvious later on.\n",
    "\n",
    "Next we will show off how we can use variables in expressions. Below I've taken the equation from the previous subsection and replaced one of the values with `x`"
   ]
  },
  {
   "cell_type": "code",
   "execution_count": null,
   "id": "d094ed89-7818-4e99-ba51-f9933e0abe89",
   "metadata": {
    "tags": []
   },
   "outputs": [],
   "source": [
    "(x + 3) / 4 * 2"
   ]
  },
  {
   "cell_type": "markdown",
   "id": "29a60397-6185-48d5-aa3e-aeed212aa971",
   "metadata": {},
   "source": [
    "As you can see, the expression is evaluated before with whatever is stored in `x`.\n",
    "\n",
    "Another thing we can do with variables is re-assign them. Using the equals operator again we can give `x` a different value."
   ]
  },
  {
   "cell_type": "code",
   "execution_count": null,
   "id": "46efd2a3-4cb7-4b78-bc6d-4dc095609c17",
   "metadata": {
    "tags": []
   },
   "outputs": [],
   "source": [
    "x = 10"
   ]
  },
  {
   "cell_type": "markdown",
   "id": "b6bf950a-9b1e-4c76-bae0-8d8e968a632a",
   "metadata": {},
   "source": [
    "Something to note, Python executes code line-by-line, so when you re-assign a variable. That will effect the following lines. Below is an example."
   ]
  },
  {
   "cell_type": "code",
   "execution_count": null,
   "id": "13281d3f-9dc4-42e6-8cc4-eba3f0da9457",
   "metadata": {
    "tags": []
   },
   "outputs": [],
   "source": [
    "x = 10\n",
    "print(x)\n",
    "x = 20\n",
    "print(x)"
   ]
  },
  {
   "cell_type": "markdown",
   "id": "5d62b14f-cfdc-4279-b109-20bf01bbe3b2",
   "metadata": {},
   "source": [
    "One last thing to mention about variables is that you can (and should) give them descriptive names. In the above simple examples `x` has been used. However in general you should always give variables a name that describes their use.\n",
    "\n",
    "Variable names cannot have spaces, cannot start with a number, and you can break up longer names using `_`.\n",
    "\n",
    "Below are two pieces of code that do the exact same thing, which one would you rather have to read?"
   ]
  },
  {
   "cell_type": "code",
   "execution_count": null,
   "id": "17295f6f-abda-41cd-a9ab-5da0ba80486b",
   "metadata": {
    "tags": []
   },
   "outputs": [],
   "source": [
    "pi = 3.14\n",
    "radius = 5\n",
    "wheel_circumference = 2 * pi * radius\n",
    "print(wheel_circumference)"
   ]
  },
  {
   "cell_type": "code",
   "execution_count": null,
   "id": "0d6f0427-c8ff-40f8-b51b-6289fe247484",
   "metadata": {
    "tags": []
   },
   "outputs": [],
   "source": [
    "a = 3.14\n",
    "b = 5\n",
    "c = 2 * a * b\n",
    "print(c)"
   ]
  },
  {
   "cell_type": "markdown",
   "id": "709fa10b-10f9-445a-a6c1-1bca615730d7",
   "metadata": {},
   "source": [
    "Now you try to write out a Python snippet like the ones above. Instead of calculating the circumference of a wheel. You'll calculate the area of a triangle. You'll need variables to store the perpendicular height and the base.\n",
    "\n",
    "As a reminder the equation for the area of a triangle is\n",
    "\n",
    "$$\n",
    "A = \\frac{h_b \\cdot b}{2}\n",
    "$$"
   ]
  },
  {
   "cell_type": "code",
   "execution_count": null,
   "id": "8c5cf668-1c99-4416-b4e2-a4de6d48eea7",
   "metadata": {},
   "outputs": [],
   "source": []
  },
  {
   "cell_type": "markdown",
   "id": "4b96ff5c-dd05-44d0-a975-56b7204c07ed",
   "metadata": {},
   "source": [
    "## Types\n",
    "\n",
    "So far we have only looked at Python expressions involving numbers, but Python can work with lots of other kinds of data. We will go over some of the most important types Python provides to us out of the box.\n",
    "\n",
    "### Integers\n",
    "\n",
    "Integers (usually refered to as ints) are whole numbers and can be positive or negative. We have seen these before when we write out numbers without decimals. For example, `x = 5` the \"type\" that `x` is storing is an integer. Python also provides us a way to find out the type which is shown below."
   ]
  },
  {
   "cell_type": "code",
   "execution_count": null,
   "id": "5be9681d-fb0e-4614-884a-cc2769390e84",
   "metadata": {
    "tags": []
   },
   "outputs": [],
   "source": [
    "x = 5\n",
    "print(type(x))"
   ]
  },
  {
   "cell_type": "markdown",
   "id": "78b73df4-75d1-4d8b-a75d-6f97bafb55b0",
   "metadata": {},
   "source": [
    "### Floats\n",
    "Floats are decimal numbers. Whenever you either write a number with a decimal, or have an expression that returns a number that requies a decimal, the type is a float. Below are some examples."
   ]
  },
  {
   "cell_type": "code",
   "execution_count": null,
   "id": "6ef1b24c-1543-444a-9b52-52264af09bc0",
   "metadata": {
    "tags": []
   },
   "outputs": [],
   "source": [
    "pi = 3.14\n",
    "print(type(pi))\n",
    "\n",
    "x = 5 / 2\n",
    "print(x)\n",
    "print(type(x))"
   ]
  },
  {
   "cell_type": "markdown",
   "id": "116590f6-4da3-4fca-acdc-d28dbf892b93",
   "metadata": {},
   "source": [
    "### Strings\n",
    "\n",
    "Strings is our first new type. String are used to represent text. You make strings by wrapping your text around in either single quotes(`'`) or double quotes(`\"`)."
   ]
  },
  {
   "cell_type": "code",
   "execution_count": null,
   "id": "a0aa4497-9cd8-4a6a-ade2-9231ebae7092",
   "metadata": {
    "tags": []
   },
   "outputs": [],
   "source": [
    "x = 'hello there!'\n",
    "print(x)\n",
    "print(type(x))"
   ]
  },
  {
   "cell_type": "markdown",
   "id": "db1206ed-0dd2-4df0-ad4f-acf3bf3e7ad3",
   "metadata": {},
   "source": [
    "Like how we have math operations we can execute on Integers and Floats, Strings come with some operations as well. Some notable ones are listed and shown off below.\n",
    "\n",
    "1. String concatenation `x = 'hello' + ' ' + 'world'`\n",
    "2. Getting the length of the string `'hello'.length`\n",
    "3. Changing the case of a string"
   ]
  },
  {
   "cell_type": "code",
   "execution_count": null,
   "id": "d959a412-1340-49f5-b3c7-9cdab04d6903",
   "metadata": {
    "tags": []
   },
   "outputs": [],
   "source": [
    "# Concatenation\n",
    "x = 'Hello' + ' ' + 'World'\n",
    "print('The value of x is: ' + x)\n",
    "\n",
    "# Printing the length of x\n",
    "print(len(x))\n",
    "\n",
    "# Changing the case\n",
    "print(x.upper())\n",
    "print(x.lower())"
   ]
  },
  {
   "cell_type": "markdown",
   "id": "5c829851",
   "metadata": {},
   "source": [
    "These are just a few of the many operations you can do with Strings. Feel free to check out [this link](https://www.w3schools.com/python/python_ref_string.asp) for some other operations.\n",
    "\n",
    "You'll notice sometimes we add parenthesis for some operations like `x.upper()`. We will discuss what those are more later on"
   ]
  },
  {
   "cell_type": "markdown",
   "id": "71584027",
   "metadata": {},
   "source": [
    "### Booleans\n",
    "\n",
    "Booleans (or bools) are types that have two possible values `True` and `False`. In Python, `True` and `False` are special values that represent truth. We will bring them up later more when we talk about conditionals. For now below is example using booleans."
   ]
  },
  {
   "cell_type": "code",
   "execution_count": null,
   "id": "cc41aa03",
   "metadata": {},
   "outputs": [],
   "source": [
    "x = True\n",
    "y = False\n",
    "x"
   ]
  },
  {
   "cell_type": "markdown",
   "id": "f2ab99fe",
   "metadata": {},
   "source": [
    "### Lists\n",
    "\n",
    "So far we have talked about types that are known as \"scalars\". \"Scalars\" are types where the types are made up of a single value. For example in the expression `x = 5` `x` stores a single value.\n",
    "\n",
    "Lists are known as composite types. Composite types are types that are made up of 1 or more types. Lists are sequence of elements kept in order. Lists are really useful when you want to store a series of information that is related.\n",
    "\n",
    "Lists in Python are represented using `[]`. Below is an example where we have a variable `grades` that store 3 integers."
   ]
  },
  {
   "cell_type": "code",
   "execution_count": null,
   "id": "32a7c21f",
   "metadata": {},
   "outputs": [],
   "source": [
    "grades = [50, 60, 40]"
   ]
  },
  {
   "cell_type": "markdown",
   "id": "b3ea488e",
   "metadata": {},
   "source": [
    "There are a lot of operations you can execute on lists. Right now we will look at the ability to \"index\" into lists and how to determine how many elements are in our list."
   ]
  },
  {
   "cell_type": "code",
   "execution_count": null,
   "id": "f98cdd5f",
   "metadata": {},
   "outputs": [],
   "source": [
    "length = len(grades)\n",
    "print(length)\n",
    "\n",
    "print(grades[0])\n",
    "print(grades[1])\n",
    "print(grades[2])\n",
    "# print(grades[3]) # What do we think will happen here?"
   ]
  },
  {
   "cell_type": "markdown",
   "id": "8a7c7665",
   "metadata": {},
   "source": [
    "Take a second and figure out what will be printed out based on what you know about Python now."
   ]
  },
  {
   "cell_type": "code",
   "execution_count": null,
   "id": "20fc6fba",
   "metadata": {},
   "outputs": [],
   "source": [
    "index = (5 * 2) // 10 # `//` is used to divide where the result is an int instead of a float\n",
    "print(grades[index])"
   ]
  },
  {
   "cell_type": "markdown",
   "id": "f21b60b2",
   "metadata": {},
   "source": [
    "### Dictionaries\n",
    "\n",
    "Dictionaries are the most complex type we will talk about. They are composite types where dictionaries store many different pieces of information using what are called \"key-value pairs\". Think of this type just like a normal dictionary. You look up an entry in a dictionary using the word (key) and you get back a definition (value). Below is an example dictionary in Python."
   ]
  },
  {
   "cell_type": "code",
   "execution_count": 10,
   "id": "08be9f70",
   "metadata": {},
   "outputs": [
    {
     "name": "stdout",
     "output_type": "stream",
     "text": [
      "Collin\n",
      "23\n",
      "['apples', 'oranges']\n"
     ]
    }
   ],
   "source": [
    "my_dictionary = {\n",
    "    'name': 'Collin',\n",
    "    'age': 23,\n",
    "    'job': 'Software Engineer',\n",
    "    'favorite fruit': ['apples', 'oranges']\n",
    "}\n",
    "\n",
    "print(my_dictionary['name'])\n",
    "print(my_dictionary['age'])\n",
    "print(my_dictionary['favorite fruit'])"
   ]
  },
  {
   "cell_type": "markdown",
   "id": "98c30f6b",
   "metadata": {},
   "source": [
    "Dictionaries can get super complicated. For this program we will be working with dictionaries in lots of different configurations. Below I have a more complex dictionary (where some of the values are dictionaries!) try to get the following to be printed off.\n",
    "\n",
    "1. The number of animals in the zoo\n",
    "2. The food eaten by the bear"
   ]
  },
  {
   "cell_type": "code",
   "execution_count": null,
   "id": "998b87d9",
   "metadata": {},
   "outputs": [],
   "source": [
    "zoo = {\n",
    "    'num animals': 3,\n",
    "    'established': 1997,\n",
    "    'bear': {\n",
    "        'food': 'berries',\n",
    "        'age': 5\n",
    "    },\n",
    "    'lion': {\n",
    "        'food': 'meat',\n",
    "        'age': 3\n",
    "    },\n",
    "    ''\n",
    "}"
   ]
  }
 ],
 "metadata": {
  "kernelspec": {
   "display_name": "Python 3 (ipykernel)",
   "language": "python",
   "name": "python3"
  },
  "language_info": {
   "codemirror_mode": {
    "name": "ipython",
    "version": 3
   },
   "file_extension": ".py",
   "mimetype": "text/x-python",
   "name": "python",
   "nbconvert_exporter": "python",
   "pygments_lexer": "ipython3",
   "version": "3.9.13"
  }
 },
 "nbformat": 4,
 "nbformat_minor": 5
}
