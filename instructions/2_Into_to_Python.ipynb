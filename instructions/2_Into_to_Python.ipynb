{
 "cells": [
  {
   "cell_type": "markdown",
   "id": "a0fa8f63-200b-46b3-b273-734d5fde6e1c",
   "metadata": {},
   "source": [
    "# Section 2 Python Basics\n",
    "\n",
    "In this section we will go over some of the basics of Python. We will see some of the fundamental building blocks we will use throughout the program. This is by no means fully comprehensive, so please ask plenty of questions and look up anything you may need additional examples for.\n",
    "\n",
    "## Basic Statements\n",
    "\n",
    "Python is made up of a series of statements which are then executed by the computer. Statements typically contain the \"logic\" that you are trying to implement. Below is a very basic statement which adds two numbers together. "
   ]
  },
  {
   "cell_type": "code",
   "execution_count": 1,
   "id": "c4b02d0c-9179-4052-9ec3-5014974eaf36",
   "metadata": {
    "tags": []
   },
   "outputs": [
    {
     "data": {
      "text/plain": [
       "10"
      ]
     },
     "execution_count": 1,
     "metadata": {},
     "output_type": "execute_result"
    }
   ],
   "source": [
    "5 + 5"
   ]
  },
  {
   "cell_type": "markdown",
   "id": "c7cbded3-4ad0-4346-b1ac-882cb0531e3e",
   "metadata": {},
   "source": [
    "Thanks to Jupyter, the result of the statement is given back to us.\n",
    "\n",
    "As you can see, the statement in this case was a mathematical operation. Python supports your typical mathematical operations (and some not usually seen in a math class).\n",
    "\n",
    "Feel free to play around with the mathematical operations to prove to yourself that they work as you expect.\n",
    "\n",
    "| Operation           | Symbol   | Example   | Result |\n",
    "|---------------------|----------|-----------|--------|\n",
    "| Addition            | `+`      | `5 + 5`   | 10     |\n",
    "| Subtraction         | `-`      | `5 - 5`   | 0      |\n",
    "| Multiplication      | `*`      | `5 * 5`   | 25     |\n",
    "| Division            | `/`      | `5 / 5`   | 1      |\n",
    "| Exponentiation      | `**`     | `5 ** 2`  | 25     |\n",
    "| Modulus (Remainder) | `%`      | `8 % 3`   | 2      |\n",
    "\n",
    "You can write compound statements like the one below. Remember your PEMDAs!"
   ]
  },
  {
   "cell_type": "code",
   "execution_count": 6,
   "id": "4faa69e9-1a76-42e1-964f-02b0a1f43db7",
   "metadata": {
    "tags": []
   },
   "outputs": [
    {
     "data": {
      "text/plain": [
       "4.0"
      ]
     },
     "execution_count": 6,
     "metadata": {},
     "output_type": "execute_result"
    }
   ],
   "source": [
    "(5 + 3) / 4 * 2"
   ]
  },
  {
   "cell_type": "markdown",
   "id": "c3872d11-093f-4cb7-bcf9-a42b0e669c45",
   "metadata": {},
   "source": [
    "## Variables\n",
    "\n",
    "Now that we know"
   ]
  }
 ],
 "metadata": {
  "kernelspec": {
   "display_name": "Python 3 (ipykernel)",
   "language": "python",
   "name": "python3"
  },
  "language_info": {
   "codemirror_mode": {
    "name": "ipython",
    "version": 3
   },
   "file_extension": ".py",
   "mimetype": "text/x-python",
   "name": "python",
   "nbconvert_exporter": "python",
   "pygments_lexer": "ipython3",
   "version": "3.10.10"
  }
 },
 "nbformat": 4,
 "nbformat_minor": 5
}
