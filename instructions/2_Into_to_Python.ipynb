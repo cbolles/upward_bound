{
 "cells": [
  {
   "cell_type": "markdown",
   "id": "a0fa8f63-200b-46b3-b273-734d5fde6e1c",
   "metadata": {},
   "source": [
    "# Section 2 Python Basics\n",
    "\n",
    "In this section we will go over some of the basics of Python. We will see some of the fundamental building blocks we will use throughout the program. This is by no means fully comprehensive, so please ask plenty of questions and look up anything you may need additional examples for.\n",
    "\n",
    "## Basic Statements\n",
    "\n",
    "Python is made up of a series of statements which are then executed by the computer. Statements typically contain the \"logic\" that you are trying to implement. Below is a very basic statement which adds two numbers together. "
   ]
  },
  {
   "cell_type": "code",
   "execution_count": null,
   "id": "c4b02d0c-9179-4052-9ec3-5014974eaf36",
   "metadata": {
    "tags": []
   },
   "outputs": [],
   "source": [
    "5 + 5"
   ]
  },
  {
   "cell_type": "markdown",
   "id": "c7cbded3-4ad0-4346-b1ac-882cb0531e3e",
   "metadata": {},
   "source": [
    "Thanks to Jupyter, the result of the statement is given back to us.\n",
    "\n",
    "As you can see, the statement in this case was a mathematical operation. Python supports your typical mathematical operations (and some not usually seen in a math class).\n",
    "\n",
    "Feel free to play around with the mathematical operations to prove to yourself that they work as you expect.\n",
    "\n",
    "| Operation           | Symbol   | Example   | Result |\n",
    "|---------------------|----------|-----------|--------|\n",
    "| Addition            | `+`      | `5 + 5`   | 10     |\n",
    "| Subtraction         | `-`      | `5 - 5`   | 0      |\n",
    "| Multiplication      | `*`      | `5 * 5`   | 25     |\n",
    "| Division            | `/`      | `5 / 5`   | 1      |\n",
    "| Exponentiation      | `**`     | `5 ** 2`  | 25     |\n",
    "| Modulus (Remainder) | `%`      | `8 % 3`   | 2      |\n",
    "\n",
    "You can write compound statements like the one below. Remember your PEMDAs!"
   ]
  },
  {
   "cell_type": "code",
   "execution_count": null,
   "id": "4faa69e9-1a76-42e1-964f-02b0a1f43db7",
   "metadata": {
    "tags": []
   },
   "outputs": [],
   "source": [
    "(5 + 3) / 4 * 2"
   ]
  },
  {
   "cell_type": "markdown",
   "id": "c3872d11-093f-4cb7-bcf9-a42b0e669c45",
   "metadata": {},
   "source": [
    "## Variables\n",
    "\n",
    "Now that we have seen that we can write out mathematical expressions. Lets learn about how we can store these values and use them elsewhere.\n",
    "\n",
    "We can store the result of an expression into something called a variable. Python variables are very similar to variables that you find in math. Both are used to represent a value and write cleaner expressions.\n",
    "\n",
    "In Python we give a variable a value using something called an assignment statement. Below is an example."
   ]
  },
  {
   "cell_type": "code",
   "execution_count": null,
   "id": "bbcba651-607a-46ec-bbaa-efe8000aaa97",
   "metadata": {
    "tags": []
   },
   "outputs": [],
   "source": [
    "x = 5"
   ]
  },
  {
   "cell_type": "markdown",
   "id": "ee301e18-d25e-424f-8eb3-cc947630142e",
   "metadata": {},
   "source": [
    "In the statement above we are doing two things.\n",
    "\n",
    "1. Making a variable called `x`\n",
    "2. Assigning the value of `5` to `x`\n",
    "\n",
    "Something to note is that we are using the equals to assign a value. This is a little different then how we use `=` in mathematics which will become more obvious later on.\n",
    "\n",
    "Next we will show off how we can use variables in expressions. Below I've taken the equation from the previous subsection and replaced one of the values with `x`"
   ]
  },
  {
   "cell_type": "code",
   "execution_count": null,
   "id": "d094ed89-7818-4e99-ba51-f9933e0abe89",
   "metadata": {
    "tags": []
   },
   "outputs": [],
   "source": [
    "(x + 3) / 4 * 2"
   ]
  },
  {
   "cell_type": "markdown",
   "id": "29a60397-6185-48d5-aa3e-aeed212aa971",
   "metadata": {},
   "source": [
    "As you can see, the expression is evaluated before with whatever is stored in `x`.\n",
    "\n",
    "Another thing we can do with variables is re-assign them. Using the equals operator again we can give `x` a different value."
   ]
  },
  {
   "cell_type": "code",
   "execution_count": null,
   "id": "46efd2a3-4cb7-4b78-bc6d-4dc095609c17",
   "metadata": {
    "tags": []
   },
   "outputs": [],
   "source": [
    "x = 10"
   ]
  },
  {
   "cell_type": "markdown",
   "id": "b6bf950a-9b1e-4c76-bae0-8d8e968a632a",
   "metadata": {},
   "source": [
    "Something to note, Python executes code line-by-line, so when you re-assign a variable. That will effect the following lines. Below is an example."
   ]
  },
  {
   "cell_type": "code",
   "execution_count": null,
   "id": "13281d3f-9dc4-42e6-8cc4-eba3f0da9457",
   "metadata": {
    "tags": []
   },
   "outputs": [],
   "source": [
    "x = 10\n",
    "print(x)\n",
    "x = 20\n",
    "print(x)"
   ]
  },
  {
   "cell_type": "markdown",
   "id": "5d62b14f-cfdc-4279-b109-20bf01bbe3b2",
   "metadata": {},
   "source": [
    "One last thing to mention about variables is that you can (and should) give them descriptive names. In the above simple examples `x` has been used. However in general you should always give variables a name that describes their use.\n",
    "\n",
    "Variable names cannot have spaces, cannot start with a number, and you can break up longer names using `_`.\n",
    "\n",
    "Below are two pieces of code that do the exact same thing, which one would you rather have to read?"
   ]
  },
  {
   "cell_type": "code",
   "execution_count": null,
   "id": "17295f6f-abda-41cd-a9ab-5da0ba80486b",
   "metadata": {
    "tags": []
   },
   "outputs": [],
   "source": [
    "pi = 3.14\n",
    "radius = 5\n",
    "wheel_circumference = 2 * pi * radius\n",
    "print(wheel_circumference)"
   ]
  },
  {
   "cell_type": "code",
   "execution_count": null,
   "id": "0d6f0427-c8ff-40f8-b51b-6289fe247484",
   "metadata": {
    "tags": []
   },
   "outputs": [],
   "source": [
    "a = 3.14\n",
    "b = 5\n",
    "c = 2 * a * b\n",
    "print(c)"
   ]
  },
  {
   "cell_type": "markdown",
   "id": "709fa10b-10f9-445a-a6c1-1bca615730d7",
   "metadata": {},
   "source": [
    "Now you try to write out a Python snippet like the ones above. Instead of calculating the circumference of a wheel. You'll calculate the area of a triangle. You'll need variables to store the perpendicular height and the base.\n",
    "\n",
    "As a reminder the equation for the area of a triangle is\n",
    "\n",
    "$$\n",
    "A = \\frac{h_b \\cdot b}{2}\n",
    "$$"
   ]
  },
  {
   "cell_type": "code",
   "execution_count": null,
   "id": "8c5cf668-1c99-4416-b4e2-a4de6d48eea7",
   "metadata": {},
   "outputs": [],
   "source": []
  },
  {
   "cell_type": "markdown",
   "id": "4b96ff5c-dd05-44d0-a975-56b7204c07ed",
   "metadata": {},
   "source": [
    "## Types\n",
    "\n",
    "So far we have only looked at Python expressions involving numbers, but Python can work with lots of other kinds of data. We will go over some of the most important types Python provides to us out of the box.\n",
    "\n",
    "### Integers\n",
    "\n",
    "Integers (usually refered to as ints) are whole numbers and can be positive or negative. We have seen these before when we write out numbers without decimals. For example, `x = 5` the \"type\" that `x` is storing is an integer. Python also provides us a way to find out the type which is shown below."
   ]
  },
  {
   "cell_type": "code",
   "execution_count": null,
   "id": "5be9681d-fb0e-4614-884a-cc2769390e84",
   "metadata": {
    "tags": []
   },
   "outputs": [],
   "source": [
    "x = 5\n",
    "print(type(x))"
   ]
  },
  {
   "cell_type": "markdown",
   "id": "78b73df4-75d1-4d8b-a75d-6f97bafb55b0",
   "metadata": {},
   "source": [
    "### Floats\n",
    "Floats are decimal numbers. Whenever you either write a number with a decimal, or have an expression that returns a number that requies a decimal, the type is a float. Below are some examples."
   ]
  },
  {
   "cell_type": "code",
   "execution_count": null,
   "id": "6ef1b24c-1543-444a-9b52-52264af09bc0",
   "metadata": {
    "tags": []
   },
   "outputs": [],
   "source": [
    "pi = 3.14\n",
    "print(type(pi))\n",
    "\n",
    "x = 5 / 2\n",
    "print(x)\n",
    "print(type(x))"
   ]
  },
  {
   "cell_type": "markdown",
   "id": "116590f6-4da3-4fca-acdc-d28dbf892b93",
   "metadata": {},
   "source": [
    "### Strings\n",
    "\n",
    "Strings is our first new type. String are used to represent text. You make strings by wrapping your text around in either single quotes(`'`) or double quotes(`\"`)."
   ]
  },
  {
   "cell_type": "code",
   "execution_count": null,
   "id": "a0aa4497-9cd8-4a6a-ade2-9231ebae7092",
   "metadata": {
    "tags": []
   },
   "outputs": [],
   "source": [
    "x = 'hello there!'\n",
    "print(x)\n",
    "print(type(x))"
   ]
  },
  {
   "cell_type": "markdown",
   "id": "db1206ed-0dd2-4df0-ad4f-acf3bf3e7ad3",
   "metadata": {},
   "source": [
    "Like how we have math operations we can execute on Integers and Floats, Strings come with some operations as well. Some notable ones are listed and shown off below.\n",
    "\n",
    "1. String concatenation `x = 'hello' + ' ' + 'world'`\n",
    "2. Getting the length of the string `'hello'.length`\n",
    "3. Changing the case of a string"
   ]
  },
  {
   "cell_type": "code",
   "execution_count": null,
   "id": "d959a412-1340-49f5-b3c7-9cdab04d6903",
   "metadata": {
    "tags": []
   },
   "outputs": [],
   "source": [
    "# Concatenation\n",
    "x = 'Hello' + ' ' + 'World'\n",
    "print('The value of x is: ' + x)\n",
    "\n",
    "# Printing the length of x\n",
    "print(len(x))\n",
    "\n",
    "# Changing the case\n",
    "print(x.upper())\n",
    "print(x.lower())"
   ]
  },
  {
   "cell_type": "markdown",
   "id": "ed92131c",
   "metadata": {},
   "source": [
    "These are just a few of the many operations you can do with Strings. Feel free to check out [this link](https://www.w3schools.com/python/python_ref_string.asp) for some other operations.\n",
    "\n",
    "You'll notice sometimes we add parenthesis for some operations like `x.upper()`. We will discuss what those are more later on"
   ]
  },
  {
   "cell_type": "markdown",
   "id": "0d8eab2b",
   "metadata": {},
   "source": [
    "### Booleans\n",
    "\n",
    "Booleans (or bools) are types that have two possible values `True` and `False`. In Python, `True` and `False` are special values that represent truth. We will bring them up later more when we talk about conditionals. For now below is example using booleans."
   ]
  },
  {
   "cell_type": "code",
   "execution_count": null,
   "id": "2b0dbdf2",
   "metadata": {},
   "outputs": [],
   "source": [
    "x = True\n",
    "y = False\n",
    "x"
   ]
  },
  {
   "cell_type": "markdown",
   "id": "353fd8f2",
   "metadata": {},
   "source": [
    "### Lists\n",
    "\n",
    "So far we have talked about types that are known as \"scalars\". \"Scalars\" are types where the types are made up of a single value. For example in the expression `x = 5` `x` stores a single value.\n",
    "\n",
    "Lists are known as composite types. Composite types are types that are made up of 1 or more types. Lists are sequence of elements kept in order. Lists are really useful when you want to store a series of information that is related.\n",
    "\n",
    "Lists in Python are represented using `[]`. Below is an example where we have a variable `grades` that store 3 integers."
   ]
  },
  {
   "cell_type": "code",
   "execution_count": null,
   "id": "9238cecc",
   "metadata": {},
   "outputs": [],
   "source": [
    "grades = [50, 60, 40]"
   ]
  },
  {
   "cell_type": "markdown",
   "id": "242f91ef",
   "metadata": {},
   "source": [
    "There are a lot of operations you can execute on lists. Right now we will look at the ability to \"index\" into lists and how to determine how many elements are in our list."
   ]
  },
  {
   "cell_type": "code",
   "execution_count": null,
   "id": "e2c57740",
   "metadata": {},
   "outputs": [],
   "source": [
    "length = len(grades)\n",
    "print(length)\n",
    "\n",
    "print(grades[0])\n",
    "print(grades[1])\n",
    "print(grades[2])\n",
    "# print(grades[3]) # What do we think will happen here?"
   ]
  },
  {
   "cell_type": "markdown",
   "id": "28bce737",
   "metadata": {},
   "source": [
    "Take a second and figure out what will be printed out based on what you know about Python now."
   ]
  },
  {
   "cell_type": "code",
   "execution_count": null,
   "id": "79899b14",
   "metadata": {},
   "outputs": [],
   "source": [
    "index = (5 * 2) // 10 # `//` is used to divide where the result is an int instead of a float\n",
    "print(grades[index])"
   ]
  },
  {
   "cell_type": "markdown",
   "id": "00975f80",
   "metadata": {},
   "source": [
    "### Dictionaries\n",
    "\n",
    "Dictionaries are the most complex type we will talk about. They are composite types where dictionaries store many different pieces of information using what are called \"key-value pairs\". Think of this type just like a normal dictionary. You look up an entry in a dictionary using the word (key) and you get back a definition (value). Below is an example dictionary in Python."
   ]
  },
  {
   "cell_type": "code",
   "execution_count": 10,
   "id": "8a19a167",
   "metadata": {},
   "outputs": [
    {
     "name": "stdout",
     "output_type": "stream",
     "text": [
      "Collin\n",
      "23\n",
      "['apples', 'oranges']\n"
     ]
    }
   ],
   "source": [
    "my_dictionary = {\n",
    "    'name': 'Collin',\n",
    "    'age': 23,\n",
    "    'job': 'Software Engineer',\n",
    "    'favorite fruit': ['apples', 'oranges']\n",
    "}\n",
    "\n",
    "print(my_dictionary['name'])\n",
    "print(my_dictionary['age'])\n",
    "print(my_dictionary['favorite fruit'])"
   ]
  },
  {
   "cell_type": "markdown",
   "id": "7b628530",
   "metadata": {},
   "source": [
    "Dictionaries can get super complicated. For this program we will be working with dictionaries in lots of different configurations. Below I have a more complex dictionary (where some of the values are dictionaries!) try to get the following to be printed off.\n",
    "\n",
    "1. The number of animals in the zoo\n",
    "2. The food eaten by the bear\n",
    "3. The age of the second snake"
   ]
  },
  {
   "cell_type": "code",
   "execution_count": 11,
   "id": "fae8936f",
   "metadata": {},
   "outputs": [],
   "source": [
    "zoo = {\n",
    "    'num animals': 3,\n",
    "    'established': 1997,\n",
    "    'bear': {\n",
    "        'food': 'berries',\n",
    "        'age': 5\n",
    "    },\n",
    "    'lion': {\n",
    "        'food': 'meat',\n",
    "        'age': 3\n",
    "    },\n",
    "    'snakes': {\n",
    "        'food': 'mice',\n",
    "        'ages': [1, 4, 7]\n",
    "    }\n",
    "}"
   ]
  },
  {
   "cell_type": "markdown",
   "id": "6410000d",
   "metadata": {},
   "source": [
    "## Condition Statements\n",
    "\n",
    "Great! So now we know how to write basic statements and use different types. Lets now look at how we execute our code differently based on the information we have. The fundamental way to do that in Python is using, `if`, `elif` and `else` statements.\n",
    "\n",
    "`if` statements are blocks are code that checks if a statement is correct (true) and runs the block of code only if a statement is true. Below is an example. Change the value of `x` to see different messages be printed out"
   ]
  },
  {
   "cell_type": "code",
   "execution_count": 12,
   "id": "878313c8",
   "metadata": {},
   "outputs": [
    {
     "name": "stdout",
     "output_type": "stream",
     "text": [
      "The value of x is 5\n",
      "5\n"
     ]
    }
   ],
   "source": [
    "x = 5\n",
    "\n",
    "if x == 5:\n",
    "    print('The value of x is 5')\n",
    "print(x)"
   ]
  },
  {
   "cell_type": "markdown",
   "id": "48e1dd5e",
   "metadata": {},
   "source": [
    "In the example above, you should notice there are two equals written `==`. In Python we differentiate between checking if two things are equal (`==`) versus assigning a value to a variable (`=`). Its easy to mix these up!\n",
    "\n",
    "We can also check for other conditions, not just equality. \n",
    "\n",
    "| Comparison Operator | Usage                    |\n",
    "|---------------------|--------------------------|\n",
    "| `==`                | Equality                 |   \n",
    "| `>`                 | Greater Than             |\n",
    "| `<`                 | Less Than                |\n",
    "| `>=`                | Greater Than or Equal To |\n",
    "| `<=`                | Less Than or Equal To    |\n",
    "| `not`               | Flip Truth Value         |"
   ]
  },
  {
   "cell_type": "code",
   "execution_count": 14,
   "id": "478cfede",
   "metadata": {},
   "outputs": [
    {
     "name": "stdout",
     "output_type": "stream",
     "text": [
      "x is false\n"
     ]
    }
   ],
   "source": [
    "x = False\n",
    "if not x:\n",
    "    print('x is false')\n",
    "\n",
    "x = 10\n",
    "if x > 20:\n",
    "    print('x is greater then 20')"
   ]
  },
  {
   "cell_type": "markdown",
   "id": "ad21f6f7",
   "metadata": {},
   "source": [
    "If we want to chain things, we can use `elif` and `else`. If an `if` statement fails, then `elsif` is checked (if present), then finally the `else` statement. Lets see an example snippet that converts a number grade into a letter grade following the rules below.\n",
    "\n",
    "| Percentage | Letter |\n",
    "|------------|--------|\n",
    "| 90-100%    | A      |\n",
    "| 80-89%     | B      |\n",
    "| 70-79%     | C      |\n",
    "| 60-69%     | D      |\n",
    "| 0-59%      | F      |"
   ]
  },
  {
   "cell_type": "code",
   "execution_count": 20,
   "id": "70b4403f",
   "metadata": {},
   "outputs": [
    {
     "name": "stdout",
     "output_type": "stream",
     "text": [
      "A\n"
     ]
    }
   ],
   "source": [
    "grade = 90\n",
    "\n",
    "if grade >=90:\n",
    "    print('A')\n",
    "elif grade >= 80:\n",
    "    print('B')\n",
    "elif grade >= 70:\n",
    "    print('C')\n",
    "elif grade >= 60:\n",
    "    print('D')\n",
    "else:\n",
    "    print('F')"
   ]
  },
  {
   "cell_type": "markdown",
   "id": "afdd95a8",
   "metadata": {},
   "source": [
    "You can check equality for strings as well. Based on what you know, change the code so the message is printed."
   ]
  },
  {
   "cell_type": "code",
   "execution_count": 23,
   "id": "49a6882f",
   "metadata": {},
   "outputs": [],
   "source": [
    "name = 'Bob'\n",
    "if name == 'Sam':\n",
    "    print('Same name!')"
   ]
  },
  {
   "cell_type": "markdown",
   "id": "8884cb74",
   "metadata": {},
   "source": [
    "## Iteration\n",
    "\n",
    "So now we know how to calculate values, store values, work with different types, and check for conditions. But what if we want to do the same operations over a series of values? Now we will look at how to do that with iteration.\n",
    "\n",
    "Python has two main loop structures, for loops and while loops. Both let us do a task over and over. Below is a basic example of a for loop that counts from 1 to 10."
   ]
  },
  {
   "cell_type": "code",
   "execution_count": 24,
   "id": "43f779d6",
   "metadata": {},
   "outputs": [
    {
     "name": "stdout",
     "output_type": "stream",
     "text": [
      "1\n",
      "2\n",
      "3\n",
      "4\n",
      "5\n",
      "6\n",
      "7\n",
      "8\n",
      "9\n",
      "10\n"
     ]
    }
   ],
   "source": [
    "for i in range(1, 11):\n",
    "    print(i)"
   ]
  },
  {
   "cell_type": "markdown",
   "id": "3852cbca",
   "metadata": {},
   "source": [
    "You can read the for loop as \"from 1 (inclusive) to 11 (not inclusive)\" run the section of code that is tabbed over. You can loop over any series of elements such as lists. Below is an example where I find out the total amount of money spent."
   ]
  },
  {
   "cell_type": "code",
   "execution_count": 2,
   "id": "c6f084ba",
   "metadata": {},
   "outputs": [
    {
     "name": "stdout",
     "output_type": "stream",
     "text": [
      "36.18\n"
     ]
    }
   ],
   "source": [
    "expenses = [5.26, 7.38, 11.54, 12]\n",
    "total = 0\n",
    "for expense in expenses:\n",
    "    total = total + expense\n",
    "print(total)"
   ]
  },
  {
   "cell_type": "markdown",
   "id": "8fb0c325",
   "metadata": {},
   "source": [
    "Now, try to write a code snippet based on the example above that will compute the average of the expenses."
   ]
  },
  {
   "cell_type": "code",
   "execution_count": null,
   "id": "ec295314",
   "metadata": {},
   "outputs": [],
   "source": []
  },
  {
   "cell_type": "markdown",
   "id": "e4672650",
   "metadata": {},
   "source": [
    "Typically we use `for` loops for when we have a fixed number of elements we want to iterate over (such as each element in a list or when you want to run something a fixed number of times). Sometimes we don't know exactly how long we want the loop to run for which is when we use `while` loops. Below is a sample while loop that runs until we've added up enough expenses to reach some threshold."
   ]
  },
  {
   "cell_type": "code",
   "execution_count": 4,
   "id": "81d03f76",
   "metadata": {},
   "outputs": [
    {
     "name": "stdout",
     "output_type": "stream",
     "text": [
      "24.18\n"
     ]
    }
   ],
   "source": [
    "target_value = 15\n",
    "total = 0\n",
    "index = 0\n",
    "while total < target_value:\n",
    "    total = total + expenses[index]\n",
    "    index = index + 1\n",
    "print(total)"
   ]
  },
  {
   "cell_type": "markdown",
   "id": "02311f5b",
   "metadata": {},
   "source": [
    "Based on what we have seen so far. What do you think is a potential problem with the code above."
   ]
  },
  {
   "cell_type": "code",
   "execution_count": null,
   "id": "8c8cc9b8",
   "metadata": {},
   "outputs": [],
   "source": []
  }
 ],
 "metadata": {
  "kernelspec": {
   "display_name": "Python 3 (ipykernel)",
   "language": "python",
   "name": "python3"
  },
  "language_info": {
   "codemirror_mode": {
    "name": "ipython",
    "version": 3
   },
   "file_extension": ".py",
   "mimetype": "text/x-python",
   "name": "python",
   "nbconvert_exporter": "python",
   "pygments_lexer": "ipython3",
   "version": "3.9.13"
  }
 },
 "nbformat": 4,
 "nbformat_minor": 5
}
