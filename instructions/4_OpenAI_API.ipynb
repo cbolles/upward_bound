{
 "cells": [
  {
   "cell_type": "markdown",
   "id": "49bf00be-a8de-4e56-b8b8-8261c22c7529",
   "metadata": {},
   "source": [
    "# Section 4 OpenAI API\n",
    "\n",
    "Now that we know a bit of Python, how to communicate across the internet, and how to pull data, let's see how we can interface with one of the biggest names in AI at the moment OpenAI.\n",
    "\n",
    "OpenAI is the company which has brought us tools like ChatGPT and DALL-E. They provide something called an \"API\" which allows us to interact with their services through code. API stands for \"application programming interface\" and is basically a documented way to talk with a service. OpenAI provides an API to interact with most of their tools which we will play around with.\n",
    "\n",
    "OpenAI provides [a ton of documentation](https://platform.openai.com/docs/introduction) on using their APIs. You'll find examples for making the requests manually (like we did in the previous section) or using one of their libraries for Python or Javascript. We will make use of their Python library for interacting with their API.\n",
    "\n",
    "Below is a basic example of using the OpenAI API to generate an image."
   ]
  },
  {
   "cell_type": "code",
   "execution_count": null,
   "id": "712d9504-0120-48af-9823-fca2c9e27f99",
   "metadata": {
    "tags": []
   },
   "outputs": [],
   "source": [
    "from dotenv import load_dotenv\n",
    "import os\n",
    "import openai\n",
    "from IPython import display\n",
    "from base64 import b64decode\n",
    "\n",
    "# First I'm going to get the API key. The key is what we use to \"login\" to OpenAI\n",
    "load_dotenv('.env')\n",
    "key = os.getenv('API_KEY')\n",
    "\n",
    "\n",
    "# Next I'll setup the OpenAI library with my credentials\n",
    "openai.api_key = os.getenv('API_KEY')\n",
    "\n",
    "# Now I can make the request to generate the image. All I did was follow OpenAI's documentation\n",
    "# https://platform.openai.com/docs/guides/images/usage\n",
    "response = openai.Image.create(\n",
    "    prompt='a boston terrier in a red sweater',\n",
    "    n=1,\n",
    "    size='512x512',\n",
    "    response_format='b64_json'\n",
    ")\n",
    "\n",
    "\n",
    "# The response gives us a lot of information back, I'm going to grab the data that represent the image\n",
    "image_data = response['data'][0]['b64_json']\n",
    "display.Image(b64decode(image_data))\n",
    "\n",
    "                                "
   ]
  },
  {
   "cell_type": "code",
   "execution_count": null,
   "id": "01c2cd83-4239-41f9-a95d-808656fdd2c7",
   "metadata": {},
   "outputs": [],
   "source": []
  }
 ],
 "metadata": {
  "kernelspec": {
   "display_name": "Python 3 (ipykernel)",
   "language": "python",
   "name": "python3"
  },
  "language_info": {
   "codemirror_mode": {
    "name": "ipython",
    "version": 3
   },
   "file_extension": ".py",
   "mimetype": "text/x-python",
   "name": "python",
   "nbconvert_exporter": "python",
   "pygments_lexer": "ipython3",
   "version": "3.10.10"
  }
 },
 "nbformat": 4,
 "nbformat_minor": 5
}
