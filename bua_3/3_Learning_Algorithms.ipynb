{
 "cells": [
  {
   "cell_type": "markdown",
   "id": "33dbfb25-c7c3-4021-ab1d-308ea8b46ed2",
   "metadata": {},
   "source": [
    "# Overview of ML\n",
    "\n",
    "We now know it is possible to analyze data with Python based on fundamental statistics using the Pandas library. This allows us to get insight into the data and answer basic questions. However, there are times when the patterns in the data are difficult to deduce manually and need an alogorithmic approach to learning what the pattern is.\n",
    "\n",
    "When more complex patterns are needed to work with data, we now often times turn to machine learning to determine those patterns. Machine learning is something we've heard about a lot recently, but what is machine learning?\n",
    "\n",
    "![ML encapsulated](https://miro.medium.com/v2/resize:fit:720/format:webp/1*aQJf4cz9_V25xIAMO1YwiA.png)\n",
    "\n",
    "* Source: [Clarifying AI, Machine Learning, Deep Learning, Data Science with Venn Diagrams](https://lotuslabs.medium.com/clarifying-ai-machine-learning-deep-learning-data-science-with-venn-diagrams-c94198faa063)"
   ]
  },
  {
   "cell_type": "markdown",
   "id": "1e0344b1-676c-48db-a6ce-c72d85aab915",
   "metadata": {},
   "source": [
    "Machine learning, as shown above, is a subsection of the broder field of AI. AI being a broader bucket for the field of research of having computer systems exhibit intelligence (you then fall down the rabbit hole of defining intelligence).\n",
    "\n",
    "Specifically, ML is the field of research around developing AI based on learning patterns. The learning process generally being some iterative operation where some model (representation of the solution) is improved over time.\n",
    "\n",
    "Since so much of the learning involves operations on data, Data Science also has a huge overlap with ML (A big part of the reason we covered Pandas previously). Often times the patterns being learned are fundamental data analysis operations being leveraged at scales we could not do manually.\n",
    "\n",
    "The last part of this diagram worth noting is the inner circle \"Deep Learning\". Deep Learning is a subsection of ML where the learning is done via deep neural networks which are inspired by real neural networks in the brain."
   ]
  },
  {
   "cell_type": "markdown",
   "id": "77acc326-baf8-4859-bcc9-54ed8b85b597",
   "metadata": {},
   "source": [
    "## Definitions\n",
    "\n",
    "Ok I've thrown around a lot of words and broad concepts, lets first clarify some definitions and see concrete examples.\n",
    "\n",
    "| Phrase             | Definition                                             |\n",
    "|--------------------|--------------------------------------------------------|\n",
    "| deep learning      | Machine learning involving multi-layer neural networks |\n",
    "| learning algorithm | Method for training a model for a specific task        |\n",
    "| model              | A representation of a possible solution to a problem   |"
   ]
  },
  {
   "cell_type": "markdown",
   "id": "b19ad06a-1bdd-4e25-88e7-0fba60b925ac",
   "metadata": {},
   "source": [
    "# Linear Regression\n",
    "\n",
    "A common algorithm for trying to make sense of a data set is Linear Regression. Model that use Lienar Regression work by finding a linear equation that can represent the general trend of data. Lets look at a basic example using [this vehicle dataset](https://www.kaggle.com/datasets/syedanwarafridi/vehicle-sales-data?resource=download)"
   ]
  },
  {
   "cell_type": "code",
   "execution_count": 11,
   "id": "fd2e7ae7-4ed5-4056-a125-637910b22265",
   "metadata": {
    "tags": []
   },
   "outputs": [
    {
     "data": {
      "text/html": [
       "<div>\n",
       "<style scoped>\n",
       "    .dataframe tbody tr th:only-of-type {\n",
       "        vertical-align: middle;\n",
       "    }\n",
       "\n",
       "    .dataframe tbody tr th {\n",
       "        vertical-align: top;\n",
       "    }\n",
       "\n",
       "    .dataframe thead th {\n",
       "        text-align: right;\n",
       "    }\n",
       "</style>\n",
       "<table border=\"1\" class=\"dataframe\">\n",
       "  <thead>\n",
       "    <tr style=\"text-align: right;\">\n",
       "      <th></th>\n",
       "      <th>year</th>\n",
       "      <th>make</th>\n",
       "      <th>model</th>\n",
       "      <th>trim</th>\n",
       "      <th>body</th>\n",
       "      <th>transmission</th>\n",
       "      <th>vin</th>\n",
       "      <th>state</th>\n",
       "      <th>condition</th>\n",
       "      <th>odometer</th>\n",
       "      <th>color</th>\n",
       "      <th>interior</th>\n",
       "      <th>seller</th>\n",
       "      <th>mmr</th>\n",
       "      <th>sellingprice</th>\n",
       "      <th>saledate</th>\n",
       "    </tr>\n",
       "  </thead>\n",
       "  <tbody>\n",
       "    <tr>\n",
       "      <th>0</th>\n",
       "      <td>2015</td>\n",
       "      <td>Kia</td>\n",
       "      <td>Sorento</td>\n",
       "      <td>LX</td>\n",
       "      <td>SUV</td>\n",
       "      <td>automatic</td>\n",
       "      <td>5xyktca69fg566472</td>\n",
       "      <td>ca</td>\n",
       "      <td>5.0</td>\n",
       "      <td>16639.0</td>\n",
       "      <td>white</td>\n",
       "      <td>black</td>\n",
       "      <td>kia motors america  inc</td>\n",
       "      <td>20500.0</td>\n",
       "      <td>21500.0</td>\n",
       "      <td>Tue Dec 16 2014 12:30:00 GMT-0800 (PST)</td>\n",
       "    </tr>\n",
       "    <tr>\n",
       "      <th>1</th>\n",
       "      <td>2015</td>\n",
       "      <td>Kia</td>\n",
       "      <td>Sorento</td>\n",
       "      <td>LX</td>\n",
       "      <td>SUV</td>\n",
       "      <td>automatic</td>\n",
       "      <td>5xyktca69fg561319</td>\n",
       "      <td>ca</td>\n",
       "      <td>5.0</td>\n",
       "      <td>9393.0</td>\n",
       "      <td>white</td>\n",
       "      <td>beige</td>\n",
       "      <td>kia motors america  inc</td>\n",
       "      <td>20800.0</td>\n",
       "      <td>21500.0</td>\n",
       "      <td>Tue Dec 16 2014 12:30:00 GMT-0800 (PST)</td>\n",
       "    </tr>\n",
       "    <tr>\n",
       "      <th>2</th>\n",
       "      <td>2014</td>\n",
       "      <td>BMW</td>\n",
       "      <td>3 Series</td>\n",
       "      <td>328i SULEV</td>\n",
       "      <td>Sedan</td>\n",
       "      <td>automatic</td>\n",
       "      <td>wba3c1c51ek116351</td>\n",
       "      <td>ca</td>\n",
       "      <td>45.0</td>\n",
       "      <td>1331.0</td>\n",
       "      <td>gray</td>\n",
       "      <td>black</td>\n",
       "      <td>financial services remarketing (lease)</td>\n",
       "      <td>31900.0</td>\n",
       "      <td>30000.0</td>\n",
       "      <td>Thu Jan 15 2015 04:30:00 GMT-0800 (PST)</td>\n",
       "    </tr>\n",
       "    <tr>\n",
       "      <th>3</th>\n",
       "      <td>2015</td>\n",
       "      <td>Volvo</td>\n",
       "      <td>S60</td>\n",
       "      <td>T5</td>\n",
       "      <td>Sedan</td>\n",
       "      <td>automatic</td>\n",
       "      <td>yv1612tb4f1310987</td>\n",
       "      <td>ca</td>\n",
       "      <td>41.0</td>\n",
       "      <td>14282.0</td>\n",
       "      <td>white</td>\n",
       "      <td>black</td>\n",
       "      <td>volvo na rep/world omni</td>\n",
       "      <td>27500.0</td>\n",
       "      <td>27750.0</td>\n",
       "      <td>Thu Jan 29 2015 04:30:00 GMT-0800 (PST)</td>\n",
       "    </tr>\n",
       "    <tr>\n",
       "      <th>4</th>\n",
       "      <td>2014</td>\n",
       "      <td>BMW</td>\n",
       "      <td>6 Series Gran Coupe</td>\n",
       "      <td>650i</td>\n",
       "      <td>Sedan</td>\n",
       "      <td>automatic</td>\n",
       "      <td>wba6b2c57ed129731</td>\n",
       "      <td>ca</td>\n",
       "      <td>43.0</td>\n",
       "      <td>2641.0</td>\n",
       "      <td>gray</td>\n",
       "      <td>black</td>\n",
       "      <td>financial services remarketing (lease)</td>\n",
       "      <td>66000.0</td>\n",
       "      <td>67000.0</td>\n",
       "      <td>Thu Dec 18 2014 12:30:00 GMT-0800 (PST)</td>\n",
       "    </tr>\n",
       "  </tbody>\n",
       "</table>\n",
       "</div>"
      ],
      "text/plain": [
       "   year   make                model        trim   body transmission  \\\n",
       "0  2015    Kia              Sorento          LX    SUV    automatic   \n",
       "1  2015    Kia              Sorento          LX    SUV    automatic   \n",
       "2  2014    BMW             3 Series  328i SULEV  Sedan    automatic   \n",
       "3  2015  Volvo                  S60          T5  Sedan    automatic   \n",
       "4  2014    BMW  6 Series Gran Coupe        650i  Sedan    automatic   \n",
       "\n",
       "                 vin state  condition  odometer  color interior  \\\n",
       "0  5xyktca69fg566472    ca        5.0   16639.0  white    black   \n",
       "1  5xyktca69fg561319    ca        5.0    9393.0  white    beige   \n",
       "2  wba3c1c51ek116351    ca       45.0    1331.0   gray    black   \n",
       "3  yv1612tb4f1310987    ca       41.0   14282.0  white    black   \n",
       "4  wba6b2c57ed129731    ca       43.0    2641.0   gray    black   \n",
       "\n",
       "                                   seller      mmr  sellingprice  \\\n",
       "0                 kia motors america  inc  20500.0       21500.0   \n",
       "1                 kia motors america  inc  20800.0       21500.0   \n",
       "2  financial services remarketing (lease)  31900.0       30000.0   \n",
       "3                 volvo na rep/world omni  27500.0       27750.0   \n",
       "4  financial services remarketing (lease)  66000.0       67000.0   \n",
       "\n",
       "                                  saledate  \n",
       "0  Tue Dec 16 2014 12:30:00 GMT-0800 (PST)  \n",
       "1  Tue Dec 16 2014 12:30:00 GMT-0800 (PST)  \n",
       "2  Thu Jan 15 2015 04:30:00 GMT-0800 (PST)  \n",
       "3  Thu Jan 29 2015 04:30:00 GMT-0800 (PST)  \n",
       "4  Thu Dec 18 2014 12:30:00 GMT-0800 (PST)  "
      ]
     },
     "execution_count": 11,
     "metadata": {},
     "output_type": "execute_result"
    }
   ],
   "source": [
    "import pandas as pd\n",
    "\n",
    "# Read in the data\n",
    "data = pd.read_csv('car_prices.csv')\n",
    "\n",
    "data.head()"
   ]
  },
  {
   "cell_type": "code",
   "execution_count": 16,
   "id": "655aaf0c-c268-4108-9f09-1d587bde042e",
   "metadata": {
    "tags": []
   },
   "outputs": [
    {
     "data": {
      "text/plain": [
       "<Axes: xlabel='odometer', ylabel='sellingprice'>"
      ]
     },
     "execution_count": 16,
     "metadata": {},
     "output_type": "execute_result"
    },
    {
     "data": {
      "image/png": "[encoded data removed]",
      "text/plain": [
       "<Figure size 640x480 with 1 Axes>"
      ]
     },
     "metadata": {},
     "output_type": "display_data"
    }
   ],
   "source": [
    "# Lets visualize the Odometer reading on the car based on what it was sold at\n",
    "ford_data = data[(data['make'] == 'Ford') & (data['model'] == 'Escape')]\n",
    "ford_data.plot.scatter(x='odometer', y='sellingprice')"
   ]
  },
  {
   "cell_type": "markdown",
   "id": "21a7c7de-641e-4bd2-88a6-6031006dfd5c",
   "metadata": {},
   "source": [
    "We can see that there is a general linear trend taking place, there clearly is more factoring into the price other then the odometer reading. But for now, lets see if we can train a linear regression model to determine the price of a car based on its odometer reading.\n",
    "\n",
    "We will use the library Scikit Learn. This library is a Python library is a machine learing library well suited for getting a grasp of the basics. One of the built in features is the \"LinearRegression\" model. The model \"learns\" the parameters of a linear equation by comparing its representation against how far off its representation is against the known values. The learning algorithm continues until its minimized the error between the linear representation and the data.\n",
    "\n",
    "To train the model we will need to split our dataset into a \"train\" component which we use to update the model parameters and a \"test\" component we use to measure the models performance."
   ]
  },
  {
   "cell_type": "code",
   "execution_count": 33,
   "id": "2a9450f7-763a-41fd-9c60-2bcb4b3c5c5b",
   "metadata": {
    "tags": []
   },
   "outputs": [
    {
     "name": "stdout",
     "output_type": "stream",
     "text": [
      "Coefficents:  [-0.1030977]\n",
      "Error:  2479.912468642362\n",
      "Percent Error:  0.3385540736563118\n"
     ]
    }
   ],
   "source": [
    "from sklearn.model_selection import train_test_split\n",
    "from sklearn import linear_model\n",
    "from sklearn.metrics import mean_absolute_error, r2_score, mean_absolute_percentage_error\n",
    "import numpy as np\n",
    "import matplotlib.pyplot as plt\n",
    "\n",
    "# Get the test and train data\n",
    "train, test = train, test = train_test_split(ford_data, test_size=0.2)\n",
    "\n",
    "train_x = train['odometer'].to_numpy().reshape(-1, 1)\n",
    "train_y = train['sellingprice'].to_numpy()\n",
    "\n",
    "test_x = test['odometer'].to_numpy().reshape(-1, 1)\n",
    "test_y = test['sellingprice'].to_numpy()\n",
    "\n",
    "# Create the linear regression model\n",
    "model = linear_model.LinearRegression()\n",
    "\n",
    "# Train the model on the train dataset\n",
    "model.fit(train_x, train_y)\n",
    "\n",
    "# Now lets see how the model performs on our test data\n",
    "test_predictions = model.predict(test_x)\n",
    "mean_error = mean_absolute_error(test_y, test_predictions)\n",
    "percent_error = mean_absolute_percentage_error(test_y, test_predictions)\n",
    "\n",
    "print('Coefficents: ', model.coef_)\n",
    "print('Error: ', mean_error)\n",
    "print('Percent Error: ', percent_error)"
   ]
  },
  {
   "cell_type": "code",
   "execution_count": 34,
   "id": "f720b609-3c8e-4de0-bed2-01eb721562c4",
   "metadata": {
    "tags": []
   },
   "outputs": [
    {
     "data": {
      "text/plain": [
       "[<matplotlib.lines.Line2D at 0x75c01f791ad0>]"
      ]
     },
     "execution_count": 34,
     "metadata": {},
     "output_type": "execute_result"
    },
    {
     "data": {
      "image/png": "[encoded data removed]",
      "text/plain": [
       "<Figure size 640x480 with 1 Axes>"
      ]
     },
     "metadata": {},
     "output_type": "display_data"
    }
   ],
   "source": [
    "plt.scatter(test_x, test_y)\n",
    "plt.plot(test_x, test_predictions, color=\"red\")"
   ]
  },
  {
   "cell_type": "code",
   "execution_count": null,
   "id": "cee93c1f-a28c-4522-a143-4be32c58efb7",
   "metadata": {},
   "outputs": [],
   "source": []
  }
 ],
 "metadata": {
  "kernelspec": {
   "display_name": "Python 3 (ipykernel)",
   "language": "python",
   "name": "python3"
  },
  "language_info": {
   "codemirror_mode": {
    "name": "ipython",
    "version": 3
   },
   "file_extension": ".py",
   "mimetype": "text/x-python",
   "name": "python",
   "nbconvert_exporter": "python",
   "pygments_lexer": "ipython3",
   "version": "3.11.4"
  }
 },
 "nbformat": 4,
 "nbformat_minor": 5
}
