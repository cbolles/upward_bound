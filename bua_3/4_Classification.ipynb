{
 "cells": [
  {
   "cell_type": "markdown",
   "id": "fd13f6af-ceef-4e80-b410-dcc74a2810c2",
   "metadata": {},
   "source": [
    "# Classification\n",
    "\n",
    "Classification is broadly the process of identifying what group or class a given data point should be a member of. Classification within ML is the process of learning the characteristics which distinguish one class from another.\n",
    "\n",
    "## K-Means Clustering\n",
    "\n",
    "K-means clustering is a method of taking a series of data points and a known number of classes ($k$) and determining the best way to partition the data to reduce the mean-squared error between points in the clusters."
   ]
  },
  {
   "cell_type": "code",
   "execution_count": 46,
   "id": "dbf69651-0184-4147-a166-3346d587953a",
   "metadata": {},
   "outputs": [],
   "source": [
    "import pandas as pd\n",
    "import matplotlib.pyplot as plt\n",
    "from sklearn.cluster import KMeans\n",
    "from sklearn.model_selection import train_test_split\n",
    "data = pd.read_csv('laptops.csv')"
   ]
  },
  {
   "cell_type": "code",
   "execution_count": 47,
   "id": "3bbda9ad-3d89-4e2b-bed1-fe2884fe2673",
   "metadata": {},
   "outputs": [
    {
     "data": {
      "text/html": [
       "<div>\n",
       "<style scoped>\n",
       "    .dataframe tbody tr th:only-of-type {\n",
       "        vertical-align: middle;\n",
       "    }\n",
       "\n",
       "    .dataframe tbody tr th {\n",
       "        vertical-align: top;\n",
       "    }\n",
       "\n",
       "    .dataframe thead th {\n",
       "        text-align: right;\n",
       "    }\n",
       "</style>\n",
       "<table border=\"1\" class=\"dataframe\">\n",
       "  <thead>\n",
       "    <tr style=\"text-align: right;\">\n",
       "      <th></th>\n",
       "      <th>index</th>\n",
       "      <th>brand</th>\n",
       "      <th>Model</th>\n",
       "      <th>Price</th>\n",
       "      <th>Rating</th>\n",
       "      <th>processor_brand</th>\n",
       "      <th>processor_tier</th>\n",
       "      <th>num_cores</th>\n",
       "      <th>num_threads</th>\n",
       "      <th>ram_memory</th>\n",
       "      <th>...</th>\n",
       "      <th>secondary_storage_capacity</th>\n",
       "      <th>gpu_brand</th>\n",
       "      <th>gpu_type</th>\n",
       "      <th>is_touch_screen</th>\n",
       "      <th>display_size</th>\n",
       "      <th>resolution_width</th>\n",
       "      <th>resolution_height</th>\n",
       "      <th>OS</th>\n",
       "      <th>year_of_warranty</th>\n",
       "      <th>usd</th>\n",
       "    </tr>\n",
       "  </thead>\n",
       "  <tbody>\n",
       "    <tr>\n",
       "      <th>3</th>\n",
       "      <td>4</td>\n",
       "      <td>acer</td>\n",
       "      <td>Acer Extensa EX214-53 Laptop (12th Gen Core i5...</td>\n",
       "      <td>39990.0</td>\n",
       "      <td>62</td>\n",
       "      <td>intel</td>\n",
       "      <td>core i5</td>\n",
       "      <td>12</td>\n",
       "      <td>16</td>\n",
       "      <td>8</td>\n",
       "      <td>...</td>\n",
       "      <td>0</td>\n",
       "      <td>intel</td>\n",
       "      <td>integrated</td>\n",
       "      <td>False</td>\n",
       "      <td>14.0</td>\n",
       "      <td>1920</td>\n",
       "      <td>1080</td>\n",
       "      <td>windows</td>\n",
       "      <td>1</td>\n",
       "      <td>479.88</td>\n",
       "    </tr>\n",
       "    <tr>\n",
       "      <th>5</th>\n",
       "      <td>6</td>\n",
       "      <td>apple</td>\n",
       "      <td>Apple MacBook Air 2020 MGND3HN Laptop (Apple M...</td>\n",
       "      <td>70990.0</td>\n",
       "      <td>45</td>\n",
       "      <td>apple</td>\n",
       "      <td>m1</td>\n",
       "      <td>8</td>\n",
       "      <td>8</td>\n",
       "      <td>8</td>\n",
       "      <td>...</td>\n",
       "      <td>0</td>\n",
       "      <td>apple</td>\n",
       "      <td>apple</td>\n",
       "      <td>False</td>\n",
       "      <td>13.3</td>\n",
       "      <td>2560</td>\n",
       "      <td>1600</td>\n",
       "      <td>mac</td>\n",
       "      <td>1</td>\n",
       "      <td>851.88</td>\n",
       "    </tr>\n",
       "    <tr>\n",
       "      <th>22</th>\n",
       "      <td>23</td>\n",
       "      <td>apple</td>\n",
       "      <td>Apple MacBook Pro 16 2023 Laptop (Apple M3 Max...</td>\n",
       "      <td>399900.0</td>\n",
       "      <td>65</td>\n",
       "      <td>apple</td>\n",
       "      <td>m3</td>\n",
       "      <td>16</td>\n",
       "      <td>16</td>\n",
       "      <td>8</td>\n",
       "      <td>...</td>\n",
       "      <td>0</td>\n",
       "      <td>apple</td>\n",
       "      <td>apple</td>\n",
       "      <td>False</td>\n",
       "      <td>16.2</td>\n",
       "      <td>3456</td>\n",
       "      <td>2234</td>\n",
       "      <td>mac</td>\n",
       "      <td>1</td>\n",
       "      <td>4798.80</td>\n",
       "    </tr>\n",
       "    <tr>\n",
       "      <th>25</th>\n",
       "      <td>26</td>\n",
       "      <td>acer</td>\n",
       "      <td>Acer Nitro V ANV15-51 2023 Gaming Laptop (13th...</td>\n",
       "      <td>77990.0</td>\n",
       "      <td>63</td>\n",
       "      <td>intel</td>\n",
       "      <td>core i5</td>\n",
       "      <td>8</td>\n",
       "      <td>12</td>\n",
       "      <td>16</td>\n",
       "      <td>...</td>\n",
       "      <td>0</td>\n",
       "      <td>nvidia</td>\n",
       "      <td>dedicated</td>\n",
       "      <td>False</td>\n",
       "      <td>15.6</td>\n",
       "      <td>1920</td>\n",
       "      <td>1080</td>\n",
       "      <td>windows</td>\n",
       "      <td>1</td>\n",
       "      <td>935.88</td>\n",
       "    </tr>\n",
       "    <tr>\n",
       "      <th>34</th>\n",
       "      <td>36</td>\n",
       "      <td>apple</td>\n",
       "      <td>Apple MacBook Air 2022 Laptop (Apple M2/ 8GB/ ...</td>\n",
       "      <td>102990.0</td>\n",
       "      <td>48</td>\n",
       "      <td>apple</td>\n",
       "      <td>m2</td>\n",
       "      <td>8</td>\n",
       "      <td>8</td>\n",
       "      <td>8</td>\n",
       "      <td>...</td>\n",
       "      <td>0</td>\n",
       "      <td>apple</td>\n",
       "      <td>apple</td>\n",
       "      <td>False</td>\n",
       "      <td>13.6</td>\n",
       "      <td>2560</td>\n",
       "      <td>1664</td>\n",
       "      <td>mac</td>\n",
       "      <td>1</td>\n",
       "      <td>1235.88</td>\n",
       "    </tr>\n",
       "  </tbody>\n",
       "</table>\n",
       "<p>5 rows × 23 columns</p>\n",
       "</div>"
      ],
      "text/plain": [
       "    index  brand                                              Model     Price  \\\n",
       "3       4   acer  Acer Extensa EX214-53 Laptop (12th Gen Core i5...   39990.0   \n",
       "5       6  apple  Apple MacBook Air 2020 MGND3HN Laptop (Apple M...   70990.0   \n",
       "22     23  apple  Apple MacBook Pro 16 2023 Laptop (Apple M3 Max...  399900.0   \n",
       "25     26   acer  Acer Nitro V ANV15-51 2023 Gaming Laptop (13th...   77990.0   \n",
       "34     36  apple  Apple MacBook Air 2022 Laptop (Apple M2/ 8GB/ ...  102990.0   \n",
       "\n",
       "    Rating processor_brand processor_tier  num_cores  num_threads  ram_memory  \\\n",
       "3       62           intel        core i5         12           16           8   \n",
       "5       45           apple             m1          8            8           8   \n",
       "22      65           apple             m3         16           16           8   \n",
       "25      63           intel        core i5          8           12          16   \n",
       "34      48           apple             m2          8            8           8   \n",
       "\n",
       "    ... secondary_storage_capacity  gpu_brand    gpu_type  is_touch_screen  \\\n",
       "3   ...                          0      intel  integrated            False   \n",
       "5   ...                          0      apple       apple            False   \n",
       "22  ...                          0      apple       apple            False   \n",
       "25  ...                          0     nvidia   dedicated            False   \n",
       "34  ...                          0      apple       apple            False   \n",
       "\n",
       "   display_size resolution_width  resolution_height       OS  \\\n",
       "3          14.0             1920               1080  windows   \n",
       "5          13.3             2560               1600      mac   \n",
       "22         16.2             3456               2234      mac   \n",
       "25         15.6             1920               1080  windows   \n",
       "34         13.6             2560               1664      mac   \n",
       "\n",
       "    year_of_warranty      usd  \n",
       "3                  1   479.88  \n",
       "5                  1   851.88  \n",
       "22                 1  4798.80  \n",
       "25                 1   935.88  \n",
       "34                 1  1235.88  \n",
       "\n",
       "[5 rows x 23 columns]"
      ]
     },
     "execution_count": 47,
     "metadata": {},
     "output_type": "execute_result"
    }
   ],
   "source": [
    "data = data[(data['brand'] == 'acer') | (data['brand'] == 'apple')]\n",
    "data['Price'] = data['Price'].astype('float')\n",
    "data['ram_memory'] = data['ram_memory'].astype('int')\n",
    "data['usd'] = data['Price'] * 0.012\n",
    "data.head()"
   ]
  },
  {
   "cell_type": "code",
   "execution_count": 64,
   "id": "1e7ecd07-0fb7-48aa-89bd-27f364c172dc",
   "metadata": {},
   "outputs": [
    {
     "data": {
      "text/plain": [
       "<matplotlib.collections.PathCollection at 0x7b2102f8a940>"
      ]
     },
     "execution_count": 64,
     "metadata": {},
     "output_type": "execute_result"
    },
    {
     "data": {
      "image/png": "[encoded data removed]",
      "text/plain": [
       "<Figure size 640x480 with 1 Axes>"
      ]
     },
     "metadata": {},
     "output_type": "display_data"
    }
   ],
   "source": [
    "# Visualize how the data lines up for RAM vs Price\n",
    "apple = data[data['brand'] == 'apple']\n",
    "acer = data[data['brand'] == 'acer']\n",
    "\n",
    "plt.scatter(apple['ram_memory'], apple['usd'], color='red')\n",
    "plt.scatter(acer['ram_memory'], acer['usd'], color='blue')"
   ]
  },
  {
   "cell_type": "code",
   "execution_count": 69,
   "id": "d5968a4d-53c8-4086-86d6-57821201761a",
   "metadata": {},
   "outputs": [],
   "source": [
    "train = data[['ram_memory', 'usd', 'brand']]\n",
    "train_x = train[['ram_memory', 'usd']]\n",
    "\n",
    "kmeans = KMeans(n_clusters=2, random_state=0).fit(train_x)"
   ]
  },
  {
   "cell_type": "code",
   "execution_count": 70,
   "id": "a10ec601-858a-4ff8-bab8-add6a9345ab1",
   "metadata": {},
   "outputs": [
    {
     "name": "stderr",
     "output_type": "stream",
     "text": [
      "/home/cbolles/anaconda3/lib/python3.9/site-packages/sklearn/base.py:450: UserWarning: X does not have valid feature names, but KMeans was fitted with feature names\n",
      "  warnings.warn(\n",
      "Exception ignored on calling ctypes callback function: <function _ThreadpoolInfo._find_modules_with_dl_iterate_phdr.<locals>.match_module_callback at 0x7b2103a6c5e0>\n",
      "Traceback (most recent call last):\n",
      "  File \"/home/cbolles/anaconda3/lib/python3.9/site-packages/threadpoolctl.py\", line 400, in match_module_callback\n",
      "    self._make_module_from_path(filepath)\n",
      "  File \"/home/cbolles/anaconda3/lib/python3.9/site-packages/threadpoolctl.py\", line 515, in _make_module_from_path\n",
      "    module = module_class(filepath, prefix, user_api, internal_api)\n",
      "  File \"/home/cbolles/anaconda3/lib/python3.9/site-packages/threadpoolctl.py\", line 606, in __init__\n",
      "    self.version = self.get_version()\n",
      "  File \"/home/cbolles/anaconda3/lib/python3.9/site-packages/threadpoolctl.py\", line 646, in get_version\n",
      "    config = get_config().split()\n",
      "AttributeError: 'NoneType' object has no attribute 'split'\n"
     ]
    }
   ],
   "source": [
    "predictions = kmeans.predict(train_x.to_numpy())"
   ]
  },
  {
   "cell_type": "code",
   "execution_count": 71,
   "id": "68b10002-46fd-411d-a53d-c45a09877c5d",
   "metadata": {},
   "outputs": [
    {
     "name": "stderr",
     "output_type": "stream",
     "text": [
      "/tmp/ipykernel_5536/3634320958.py:2: SettingWithCopyWarning: \n",
      "A value is trying to be set on a copy of a slice from a DataFrame.\n",
      "Try using .loc[row_indexer,col_indexer] = value instead\n",
      "\n",
      "See the caveats in the documentation: https://pandas.pydata.org/pandas-docs/stable/user_guide/indexing.html#returning-a-view-versus-a-copy\n",
      "  prediction_results['label'] = predictions\n"
     ]
    }
   ],
   "source": [
    "prediction_results = train\n",
    "prediction_results['label'] = predictions"
   ]
  },
  {
   "cell_type": "code",
   "execution_count": 76,
   "id": "7df4ecb4-22a6-4e2e-99be-10c0cf0e23e8",
   "metadata": {},
   "outputs": [
    {
     "data": {
      "text/plain": [
       "<matplotlib.collections.PathCollection at 0x7b2102d98b20>"
      ]
     },
     "execution_count": 76,
     "metadata": {},
     "output_type": "execute_result"
    },
    {
     "data": {
      "image/png": "[encoded data removed]",
      "text/plain": [
       "<Figure size 640x480 with 1 Axes>"
      ]
     },
     "metadata": {},
     "output_type": "display_data"
    }
   ],
   "source": [
    "mean_1 = prediction_results[prediction_results['label'] == 0]\n",
    "mean_2 = prediction_results[prediction_results['label'] == 1]\n",
    "\n",
    "centers = kmeans.cluster_centers_\n",
    "center_x = [center[0] for center in centers]\n",
    "center_y = [center[1] for center in centers]\n",
    "\n",
    "plt.scatter(mean_1['ram_memory'], mean_1['usd'], color='red')\n",
    "plt.scatter(mean_2['ram_memory'], mean_2['usd'], color='blue')\n",
    "plt.scatter(center_x, center_y, color='green')"
   ]
  },
  {
   "cell_type": "code",
   "execution_count": null,
   "id": "b4d0d77e-b6dc-42ae-8724-f711b65eb4d1",
   "metadata": {},
   "outputs": [],
   "source": []
  }
 ],
 "metadata": {
  "kernelspec": {
   "display_name": "Python 3 (ipykernel)",
   "language": "python",
   "name": "python3"
  },
  "language_info": {
   "codemirror_mode": {
    "name": "ipython",
    "version": 3
   },
   "file_extension": ".py",
   "mimetype": "text/x-python",
   "name": "python",
   "nbconvert_exporter": "python",
   "pygments_lexer": "ipython3",
   "version": "3.9.13"
  }
 },
 "nbformat": 4,
 "nbformat_minor": 5
}
