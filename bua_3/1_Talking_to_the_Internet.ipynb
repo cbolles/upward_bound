{
 "cells": [
  {
   "cell_type": "markdown",
   "id": "1d00863e-958e-4641-a391-84ad45588fd0",
   "metadata": {},
   "source": [
    "# Section 1 Talking to the Internet\n",
    "\n",
    "The goal of this section is to get hands on exposure to how data collection can look like leveraging Python. We will use\n",
    "the `requests` library to communicate with the internet and use public data sources to extract data."
   ]
  },
  {
   "cell_type": "markdown",
   "id": "ae5e84f8-8bfd-4d24-ac1f-8d8edaaece6d",
   "metadata": {},
   "source": [
    "## What Happens When We Go to a Website?\n",
    "\n",
    "We will first explore briefly what takes place when we make requests over the internet. This base level knowledge will let us make more complicated requests in the future.\n",
    "\n",
    "To start, let's use the `requests` library to make a request to Google."
   ]
  },
  {
   "cell_type": "code",
   "execution_count": 2,
   "id": "f4935b64-ce55-4a25-9064-ef6c8cdf3a50",
   "metadata": {
    "tags": []
   },
   "outputs": [],
   "source": [
    "import requests\n",
    "\n",
    "response = requests.get('https://www.google.com')"
   ]
  },
  {
   "cell_type": "markdown",
   "id": "000e490f-3e21-4612-a66e-f91a694e4f75",
   "metadata": {},
   "source": [
    "Lets break down what is happening in the lines of code above. The code is using the `get` function associated with the `requests` library. \"Get\" actually has a special meaning in this context.\n",
    "\n",
    "The first piece to understand is that the internet as we understand it is built ontop of the protocol \"HTTP\". \"HTTP\" is an agreed upon way that computers can communicate. The protocol was designed around the idea of a \"client-server\" architecture. That means that a computer (the client) can open a channel and make requests against another computer (the server).\n",
    "\n",
    "HTTP defines a few \"methods\" which represent different kinds of operations that are supported, a few of interest are listed below.\n",
    "\n",
    "| Method | Purpose                                   |\n",
    "|--------|-------------------------------------------|\n",
    "| GET    | Request information from the server       |\n",
    "| POST   | Send new information to the server        |\n",
    "| PUT    | Update existing information on the server |\n",
    "| DELETE | Delete some information on the server     |\n",
    "\n",
    "There are others that you can find [here](https://developer.mozilla.org/en-US/docs/Web/HTTP/Methods), but we will mostly work with `GET` and `POST`.\n",
    "\n",
    "So now we know the code is making an HTTP `GET` request which means we are requsting information from the server. To identify which server we want to \"get\" from, we provide the URL. URL's follow the basic structure\n",
    "\n",
    "```\n",
    "<protocol>://<domain>/<path>\n",
    "```\n",
    "\n",
    "Protocol in our case is either `http` or `https` (secure). The domain is how we find out where the requests should be sent to, and the path represents what specific information in the server we want to access. The protocol and domain are a firm part of the HTTP protocol, but the path is flexible and how it works depends on the server.\n",
    "\n",
    "In summary, what we are doing above is\n",
    "\n",
    "1. Making an HTTP \"get\" request\n",
    "2. The request is following the HTTPS protocol (HTTP with encryption)\n",
    "3. We are making the request against the domain \"google.com\"\n",
    "\n",
    "Now lets look at what we get back"
   ]
  },
  {
   "cell_type": "code",
   "execution_count": 3,
   "id": "1b43ca5f-ab6f-4acf-ae34-1877002ed46c",
   "metadata": {
    "tags": []
   },
   "outputs": [
    {
     "data": {
      "text/plain": [
       "<Response [200]>"
      ]
     },
     "execution_count": 3,
     "metadata": {},
     "output_type": "execute_result"
    }
   ],
   "source": [
    "response"
   ]
  },
  {
   "cell_type": "markdown",
   "id": "4e1ccb55-745b-496e-aef7-cbe894de5282",
   "metadata": {},
   "source": [
    "Ok so all that and what we get back is what seems like the number 200. 200 is actually good.\n",
    "\n",
    "The HTTP protocol has a list of codes and what they represent. They help us figure out if the request was successful, and if it wasn't, why did it fail.\n",
    "\n",
    "Codes in the range 200-299 represent a \"Success response\", so \"200\" means the server acknowledged our request and was able to successfully respond.\n",
    "\n",
    "The full list of codes and their meanings can be found [here](https://developer.mozilla.org/en-US/docs/Web/HTTP/Status).\n",
    "\n",
    "Lets take a deeper look at what we got back."
   ]
  },
  {
   "cell_type": "code",
   "execution_count": null,
   "id": "76eadad1-39d4-45b4-977d-444fffe932ce",
   "metadata": {
    "tags": []
   },
   "outputs": [],
   "source": [
    "response.content"
   ]
  },
  {
   "cell_type": "markdown",
   "id": "cbcd664d-ac4e-47b2-995f-66a7c2f245ae",
   "metadata": {},
   "source": [
    "So that looks ugly, but why?\n",
    "\n",
    "What we got back is HTML, HTML is a language designed for representing websites, it is the backbone of web development and how we represent webpages. Our web browsers make these HTTP get requests, take in the HTML from the servers, and know how to render them as the websites we interact with every day.\n",
    "\n",
    "For this seminar, we are going to look at servers that don't return HTML, but return something known as JSON.\n",
    "\n",
    "JSON is \"Javascript Object Notation\" and is a way of representing data as text. Below is a basic object\n",
    "\n",
    "```\n",
    "{\n",
    "    \"name\": \"Collin Bolles\",\n",
    "    \"age\": 24,\n",
    "    \"occupation\": \"Software Engineer\",\n",
    "    \"education\": [\n",
    "        {\n",
    "            \"type\": \"undergrad\",\n",
    "            \"school\": \"RIT\"\n",
    "        },\n",
    "        {\n",
    "            \"type\": \"masters\",\n",
    "            \"school\": \"BU\"\n",
    "        }\n",
    "    ]\n",
    "}\n",
    "```\n",
    "\n",
    "Note the curly braces, quotes, and use of \":\" to seperate keys and values.\n",
    "\n",
    "Let's now take a look at an example website that returns JSON.\n",
    "\n",
    "The national weather survice provides a RESTful API that returns information collected from different stations as JSON. Below is a sample code snippet that does just that."
   ]
  },
  {
   "cell_type": "code",
   "execution_count": null,
   "id": "b9536907-743b-4ce4-9cd7-6ff147dd937f",
   "metadata": {
    "tags": []
   },
   "outputs": [],
   "source": [
    "base_url = 'https://api.weather.gov/stations/KBOS/observations/latest'\n",
    "response = requests.get(base_url).json()\n",
    "response"
   ]
  },
  {
   "cell_type": "markdown",
   "id": "04ff1875-54f2-495a-bca2-8615f0ea3ce7",
   "metadata": {},
   "source": [
    "Lets walk through what is going on with this code snippet, and see what we can do with it."
   ]
  },
  {
   "cell_type": "code",
   "execution_count": null,
   "id": "19e0df74-9ea9-42ab-b6c6-a92bf91595b1",
   "metadata": {},
   "outputs": [],
   "source": []
  },
  {
   "cell_type": "markdown",
   "id": "93cdc9ca-bb70-49ff-8232-8c90bbd84ba5",
   "metadata": {},
   "source": [
    "\n",
    "Now try this out yourself. Based on how we got the wind speed, lets get the current temperature, then lets use that to determine what article of clothing is most appropriate. This problem will take more time, so break things up into pieces, make the request, get the tempature, use that to determine the correct clothing, then print out that article of clothing.\n",
    "\n",
    "| Temperature Range | Clothing     |\n",
    "|-------------------|--------------|\n",
    "| < 40              | Winter Coat  |\n",
    "| 40-50             | Sweat Shirt  |\n",
    "| 50-65             | Light Jacket |\n",
    "| > 65              | T-shirt      |"
   ]
  },
  {
   "cell_type": "code",
   "execution_count": null,
   "id": "23b35b3d-239c-4e03-a2d1-aa9bf65826d0",
   "metadata": {},
   "outputs": [],
   "source": []
  },
  {
   "cell_type": "markdown",
   "id": "c40effad-cebb-4e2a-b3fb-f1c3c7a4b39e",
   "metadata": {},
   "source": [
    "There are a ton of APIs with all kinds of data and functionality. A few are listed in the GitHub repository shown below.\n",
    "\n",
    "https://github.com/public-apis/public-apis"
   ]
  },
  {
   "cell_type": "code",
   "execution_count": null,
   "id": "5acb77bd-5df4-4167-8c4e-ebb476d9fe40",
   "metadata": {},
   "outputs": [],
   "source": []
  }
 ],
 "metadata": {
  "kernelspec": {
   "display_name": "Python 3 (ipykernel)",
   "language": "python",
   "name": "python3"
  },
  "language_info": {
   "codemirror_mode": {
    "name": "ipython",
    "version": 3
   },
   "file_extension": ".py",
   "mimetype": "text/x-python",
   "name": "python",
   "nbconvert_exporter": "python",
   "pygments_lexer": "ipython3",
   "version": "3.11.4"
  }
 },
 "nbformat": 4,
 "nbformat_minor": 5
}
