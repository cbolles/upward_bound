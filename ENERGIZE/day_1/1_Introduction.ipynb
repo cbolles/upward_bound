{
 "cells": [
  {
   "cell_type": "markdown",
   "id": "fed3fb01-8615-41ed-9c60-08435b774699",
   "metadata": {},
   "source": [
    "# Introduction\n",
    "\n",
    "## Goal of the Session\n",
    "\n",
    "* Provide broad context about the why of programming\n",
    "* Quickly touch on Python syntax so future programming learning is easier\n",
    "* Look at some specific tools you'll likely run into\n",
    "* Introduction to machine learning\n",
    "* Using PyTorch for ML\n",
    "\n",
    "## What is Programming Anyway?\n",
    "\n",
    "You've likely already had to write code before. R, Matlab, Python, C++. There are hundreds of languages out there, but what are they, why are there so many, and why should you care?\n",
    "\n",
    "Well basically every computer is made up of a CPU which handles math operations, memory which is used to store data, variables, and intermediate calculations, storage for long term records, and input output devices (monitor, keyboard, pH sensors, etc). So all languages are ultimately working with the same hardware. Indeed, the CPU (which is where your code runs) only understands a [very limited number of operations](https://pages.cs.wisc.edu/~markhill/restricted/arm_isa_quick_reference.pdf).\n",
    "\n",
    "That means that the languages you've written in end up being easier ways to represent a large number of simple operations. Languages are designed to be used for various tasks and are often times broken up into two main categories.\n",
    "\n",
    "High Level Languages: Read like English (or other human languages) and are pretty abstracted away from the computer. Very useful for situations where the user isn't necessarily a computer scientist or doesn't need to work closely to the CPU.\n",
    "* Python\n",
    "* R\n",
    "* Matlab\n",
    "\n",
    "\n",
    "Low Level Languages: More closely resembles the code that will ultimately be run on the CPU. Provides a ton of control at the cost of being slower to right code in. Very useful where optimizing for speed is important or hardware specific features are needed.\n",
    "* C\n",
    "* C++\n",
    "* Rust"
   ]
  },
  {
   "cell_type": "markdown",
   "id": "b432b413-7590-467c-afa6-7df8183a1430",
   "metadata": {},
   "source": [
    "## Jupyter Notebooks\n",
    "\n",
    "I'll be running the code in this environment known as a Jupyter notebook or sometimes just called a \"notebook\". Its an interactive environment kinda like Matlab that allows you to more easily visualize output. Jupyter notebooks are commonly used in data science, scientific computing, and programming experimentation for how easy it is to tweak code and visually see the output. Notebooks also allow for a mix of code blocks and markdown which is rendered as well formatted text.\n",
    "\n",
    "Notebooks aren't the only way you can write Python code, but it's useful for learning with."
   ]
  },
  {
   "cell_type": "code",
   "execution_count": 9,
   "id": "d142243e-42cf-4f35-a813-a81064217a8b",
   "metadata": {},
   "outputs": [
    {
     "data": {
      "text/plain": [
       "6"
      ]
     },
     "execution_count": 9,
     "metadata": {},
     "output_type": "execute_result"
    }
   ],
   "source": [
    "x = 5 + 1\n",
    "\n",
    "x"
   ]
  },
  {
   "cell_type": "code",
   "execution_count": 10,
   "id": "2c53e55a-439f-433c-be8b-e4f4a4c69b45",
   "metadata": {},
   "outputs": [],
   "source": [
    "x = x + 7"
   ]
  },
  {
   "cell_type": "code",
   "execution_count": 11,
   "id": "5d856641-cdd9-4fa4-b389-785ebdef0202",
   "metadata": {},
   "outputs": [
    {
     "data": {
      "text/plain": [
       "13"
      ]
     },
     "execution_count": 11,
     "metadata": {},
     "output_type": "execute_result"
    }
   ],
   "source": [
    "x"
   ]
  },
  {
   "cell_type": "code",
   "execution_count": 12,
   "id": "39b13206-dfb5-4f40-842e-9ef81d0c1fe4",
   "metadata": {},
   "outputs": [
    {
     "data": {
      "text/plain": [
       "[<matplotlib.lines.Line2D at 0x7e3d09e83190>]"
      ]
     },
     "execution_count": 12,
     "metadata": {},
     "output_type": "execute_result"
    },
    {
     "data": {
      "image/png": "[encoded data removed]",
      "text/plain": [
       "<Figure size 640x480 with 1 Axes>"
      ]
     },
     "metadata": {},
     "output_type": "display_data"
    }
   ],
   "source": [
    "import numpy as np\n",
    "import matplotlib.pyplot as plt\n",
    "\n",
    "start = 0\n",
    "stop = 5\n",
    "num_points = 10\n",
    "\n",
    "x_points = np.linspace(start, stop, num=num_points)\n",
    "y_points = x_points * 2\n",
    "\n",
    "plt.plot(x_points, y_points)"
   ]
  }
 ],
 "metadata": {
  "kernelspec": {
   "display_name": "Python 3 (ipykernel)",
   "language": "python",
   "name": "python3"
  },
  "language_info": {
   "codemirror_mode": {
    "name": "ipython",
    "version": 3
   },
   "file_extension": ".py",
   "mimetype": "text/x-python",
   "name": "python",
   "nbconvert_exporter": "python",
   "pygments_lexer": "ipython3",
   "version": "3.10.12"
  }
 },
 "nbformat": 4,
 "nbformat_minor": 5
}
