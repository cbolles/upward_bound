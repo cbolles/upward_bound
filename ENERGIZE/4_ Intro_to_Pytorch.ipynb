{
 "cells": [
  {
   "cell_type": "markdown",
   "id": "2ebe263b-c44e-484d-a56b-73951bf05c3d",
   "metadata": {},
   "source": [
    "# Intro to PyTorch\n",
    "\n",
    "So far we have manually been working with weights, biases, activation functions, and plugging in inputs. What you may have noticed is that there is a pattern to these operations with neural networks. Essentially these neural net operations are a series of matrix operations. With the rise in popularity of NN's and machine learning several libraries emerged to provide large matrix operation support and various ML functions.\n",
    "\n",
    "TensorFlow and PyTorch are the most popular with recent years seeing PyTorch grow as the go to ML framework. PyTorch has support for tensors (multi-dimensional matricies), NN construction, and learning processes. We will play around with some of the building blocks of PyTorch before we put it all together and make our own NN."
   ]
  },
  {
   "cell_type": "markdown",
   "id": "3b36af1d-6d7a-45b7-9fbe-e29266ece93d",
   "metadata": {},
   "source": [
    "## Tensors\n",
    "\n",
    "Tensors are the building blocks of most actions in PyTorch, our data will be represented as tensors, our weights can be tensors, they are very important. You'll likely spending a lot of time initially playing with the dimensionality of your tensors to have them match a target shape."
   ]
  },
  {
   "cell_type": "code",
   "execution_count": 5,
   "id": "e690efd6-db55-4937-9859-fae487d39bab",
   "metadata": {},
   "outputs": [],
   "source": [
    "import torch\n",
    "import numpy as np\n",
    "\n",
    "# Lets represent a series of 2D points as a tensor to start\n",
    "points = torch.tensor([[1, 2], [2, 3], [4, 5]])"
   ]
  },
  {
   "cell_type": "markdown",
   "id": "4e79c954-0106-4019-b36c-410209204f8a",
   "metadata": {},
   "source": [
    "\"Shape\" tells us how our tensor is layed out, this becomes very important when we start to apply operations on our tensors because operations between tensors require their shape to match."
   ]
  },
  {
   "cell_type": "code",
   "execution_count": 6,
   "id": "095e0fe5-5ae0-4d9c-8d17-7cac8259c596",
   "metadata": {},
   "outputs": [
    {
     "data": {
      "text/plain": [
       "torch.Size([3, 2])"
      ]
     },
     "execution_count": 6,
     "metadata": {},
     "output_type": "execute_result"
    }
   ],
   "source": [
    "points.shape"
   ]
  },
  {
   "cell_type": "markdown",
   "id": "39f6f0e5-9d11-41cf-85cf-c4c886e6d1a7",
   "metadata": {},
   "source": [
    "This tells us that we have a tensor that is 3x2 in shape"
   ]
  },
  {
   "cell_type": "markdown",
   "id": "02bccae6-ffaa-42ac-96cc-931a10e43af9",
   "metadata": {},
   "source": [
    "Tensors in PyTorch operate very similarly to numpy arrays and intend there is good compatibility between the two. As with numpy we can perform operations on PyTorch tensors."
   ]
  },
  {
   "cell_type": "code",
   "execution_count": 7,
   "id": "a5b9e3a9-5627-4ba4-88c8-27298fe2ac5a",
   "metadata": {},
   "outputs": [
    {
     "data": {
      "text/plain": [
       "tensor([[ 3,  6],\n",
       "        [ 6,  9],\n",
       "        [12, 15]])"
      ]
     },
     "execution_count": 7,
     "metadata": {},
     "output_type": "execute_result"
    }
   ],
   "source": [
    "points * 3"
   ]
  },
  {
   "cell_type": "markdown",
   "id": "40d45548-e437-4ac1-8d36-dc7041047be6",
   "metadata": {},
   "source": [
    "What about things like images? Well we could represent a color image by a C-by-H-by-W where \"C\" are the number of color channels, \"H\" is the height and \"W\" is the width"
   ]
  },
  {
   "cell_type": "code",
   "execution_count": 32,
   "id": "41c0ee0b-0515-4005-b9c6-3d909d7835e4",
   "metadata": {},
   "outputs": [
    {
     "data": {
      "text/plain": [
       "torch.Size([4, 357, 630])"
      ]
     },
     "execution_count": 32,
     "metadata": {},
     "output_type": "execute_result"
    }
   ],
   "source": [
    "from torchvision.io import decode_image\n",
    "\n",
    "img = decode_image('data/street_view.png')\n",
    "\n",
    "img.shape"
   ]
  },
  {
   "cell_type": "markdown",
   "id": "78f0d557-d896-45c4-af21-b2b65946fb8e",
   "metadata": {},
   "source": [
    "However, sometimes we want to represent images in different formats. For example, OpenCV has images in the format H-W-C. We can use PyTorch's permute operation and convert directly to numpy if we need to perform OpenCV operations."
   ]
  },
  {
   "cell_type": "code",
   "execution_count": 40,
   "id": "10a390f3-7cd4-410a-861c-b0ae2e50762a",
   "metadata": {},
   "outputs": [
    {
     "data": {
      "text/plain": [
       "torch.Size([630, 4, 357])"
      ]
     },
     "execution_count": 40,
     "metadata": {},
     "output_type": "execute_result"
    }
   ],
   "source": [
    "from matplotlib import pyplot as plt\n",
    "\n",
    "opencv_img = img.permute((1, 0, 1))\n",
    "\n",
    "# plt.imshow(opencv_img)\n",
    "opencv_img.shape"
   ]
  },
  {
   "cell_type": "code",
   "execution_count": null,
   "id": "cb47d1d1-0fef-4310-8615-389b1c5158b6",
   "metadata": {},
   "outputs": [],
   "source": []
  }
 ],
 "metadata": {
  "kernelspec": {
   "display_name": "Python 3 (ipykernel)",
   "language": "python",
   "name": "python3"
  },
  "language_info": {
   "codemirror_mode": {
    "name": "ipython",
    "version": 3
   },
   "file_extension": ".py",
   "mimetype": "text/x-python",
   "name": "python",
   "nbconvert_exporter": "python",
   "pygments_lexer": "ipython3",
   "version": "3.10.12"
  }
 },
 "nbformat": 4,
 "nbformat_minor": 5
}
