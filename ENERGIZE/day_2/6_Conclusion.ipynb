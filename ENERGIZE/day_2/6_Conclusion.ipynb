{
 "cells": [
  {
   "cell_type": "markdown",
   "id": "fee8996a-6628-4d16-ba65-3caf6931e406",
   "metadata": {},
   "source": [
    "# Conclusion and Next Steps\n",
    "\n",
    "We've so far took a journey from understanding an area that is difficult to solve (finding objects in an image), understood the underlying needs of machine learning (having a model, parameters, loss function, and optimizer), learning how PyTorch helps with these components, and applied them.\n",
    "\n",
    "This is a pretty narrow band of machine learning applications, there are tons of model architectures, interesting loss functions, and ways to train. I highly recommend you take a moment and Google/use ChatGPT to figure out how machine learning applies to your area of study.\n",
    "\n",
    "## Other Neural Network Model Architectures\n",
    "\n",
    "We looked at Convolutional Neural Networks. They are really good at recognizing spatial patterns which is why we used them in image analysis. But I've listed a few more below and their common use cases. Check out even more [here](https://www.geeksforgeeks.org/deep-learning/types-of-neural-networks/).\n",
    "\n",
    "* Recurrent Neural Networks (RNNs): Designed to work with series of data. Things like language translation, time series data, etc.\n",
    "* Generative Adversarial Networks (GANs): Designed to learn to match some pattern. Can be used to learn how to style artwork.\n",
    "* Transformer Networks: Learn to recognize patterns in a series of data and modeling probablistically the next element in the series. Large Language Models\n",
    "\n",
    "## Machine Learning Paradigms\n",
    "\n",
    "* Supervised Learning: Learning where correct data is known across a dataset.\n",
    "* Unsupervised Learning: Pattern recognition where the exact answer isn't known.\n",
    "* Reinforcement Learning: Learning where the model works to maximize some reward function."
   ]
  },
  {
   "cell_type": "code",
   "execution_count": null,
   "id": "20b8f344-a710-46d3-8e12-77f6f56882f3",
   "metadata": {},
   "outputs": [],
   "source": []
  }
 ],
 "metadata": {
  "kernelspec": {
   "display_name": "Python 3 (ipykernel)",
   "language": "python",
   "name": "python3"
  },
  "language_info": {
   "codemirror_mode": {
    "name": "ipython",
    "version": 3
   },
   "file_extension": ".py",
   "mimetype": "text/x-python",
   "name": "python",
   "nbconvert_exporter": "python",
   "pygments_lexer": "ipython3",
   "version": "3.10.12"
  }
 },
 "nbformat": 4,
 "nbformat_minor": 5
}
