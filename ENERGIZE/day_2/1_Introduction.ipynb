{
 "cells": [
  {
   "cell_type": "markdown",
   "id": "16f4b11f-b667-4430-9c16-a9ed5c0b344a",
   "metadata": {},
   "source": [
    "# Introduction\n",
    "\n",
    "## What is Machine Learning?\n",
    "\n",
    "You've certainly come across people taking about Artifical Intelligence (AI) and Machine Learning (ML). Often times these phrases are used interchangeably but they have different meanings. \n",
    "\n",
    "Artifical Intelligence is the broad field in computer science of creating intelligent systems. Obviously that can mean many many different things and depends on what you count as \"intelligent\". Overall AI is generally a blanket learn for research related to producing systems which can produce answers to problems without having to manually program the solution. \n",
    "\n",
    "ML is a sub-field of AI where the approach to producing an intelligent system is have a program \"learn\" a possible solution to a problem. Perhaps you know roughly what the correct solution should look like, but don't every variable. ML provides an answer by having a program learn those variables.\n",
    "\n",
    "## Where is Machine Learning Helpful?\n",
    "\n",
    "You'll find machine learning used in places where the solution to a problem is too complex to do by hand. To understand what that means, lets look at a sample problem.\n",
    "\n",
    "> Detect where in an image a stop sign exists\n",
    "\n",
    "For this example, I'll be using a few libraries, namely OpenCV. OpenCV is a computer vision library that treats images as matricies and performs matrix operations over them. We won't go into depth on OpenCV, but I'll point out from a high level what it is doing."
   ]
  },
  {
   "cell_type": "code",
   "execution_count": null,
   "id": "0badcbe0-af77-4bfd-b4d7-94fdd1e80801",
   "metadata": {},
   "outputs": [],
   "source": [
    "# For computer vision algorithms\n",
    "import cv2\n",
    "\n",
    "# For viewing images\n",
    "from matplotlib import pyplot as plt\n",
    "\n",
    "im = cv2.imread('../data/street_view.png')\n",
    "\n",
    "plt.imshow(cv2.cvtColor(im, cv2.COLOR_BGR2RGB))"
   ]
  },
  {
   "cell_type": "markdown",
   "id": "1abbc2f0-2de4-4650-8779-36ea98103735",
   "metadata": {},
   "source": [
    "For this example, we will use a technique known as \"template matching\". Basically we will take a template (the image of the stop sign) and compare each region of the image against the template. Where ever the match is the highest is where we will say the stop sign is.\n",
    "\n",
    "For simplicity, we will also have the image and the template in grayscale."
   ]
  },
  {
   "cell_type": "code",
   "execution_count": null,
   "id": "92f3a6f4-4e11-4357-8d4b-b001adef2d6d",
   "metadata": {},
   "outputs": [],
   "source": [
    "# Let's get the template\n",
    "template = cv2.imread('../data/stop_sign_gray.png', cv2.IMREAD_GRAYSCALE)\n",
    "\n",
    "# Now lets get the gray version of the image\n",
    "img_gray = cv2.imread('../data/street_gray.png', cv2.IMREAD_GRAYSCALE)\n",
    "\n",
    "# Let's see what we are working with\n",
    "fig, axes = plt.subplots(1, 2)\n",
    "axes[0].set_title('Original')\n",
    "axes[0].imshow(img_gray, cmap='gray')\n",
    "\n",
    "axes[1].set_title('Template')\n",
    "axes[1].imshow(template, cmap='gray')"
   ]
  },
  {
   "cell_type": "markdown",
   "id": "e64838c9-45ee-4886-adb2-d337e1bc8891",
   "metadata": {},
   "source": [
    "OpenCV comes with a template matching function that takes in the original image, the template, and how to calculate the similarity of the image. OpenCV supports [many methods](https://docs.opencv.org/3.4/df/dfb/group__imgproc__object.html#ga3a7850640f1fe1f58fe91a2d7583695d), but we will be using coorrelation coefficent(`cv2.TM_CCOEFF`)"
   ]
  },
  {
   "cell_type": "code",
   "execution_count": null,
   "id": "ddf76736-16b9-4ab0-946c-8bc67f8d6655",
   "metadata": {},
   "outputs": [],
   "source": [
    "# Use the template matching function\n",
    "matching_result = cv2.matchTemplate(img_gray, template, cv2.TM_CCOEFF)\n",
    "\n",
    "# The result is basically an image showing how the template matches at every spot in the image\n",
    "plt.imshow(matching_result, cmap='gray')"
   ]
  },
  {
   "cell_type": "code",
   "execution_count": null,
   "id": "2b08d8bb-426d-4882-aa6a-71caa4b35fd9",
   "metadata": {},
   "outputs": [],
   "source": [
    "# The location of the maximum pixel will represent where the best match is\n",
    "min_val, max_val, min_loc, max_loc = cv2.minMaxLoc(matching_result)\n",
    "\n",
    "# We will draw a rectangle around the maximum value in the original image to visualize where the match is\n",
    "top_left = max_loc\n",
    "w, h = template.shape[::-1]\n",
    "bottom_right = (top_left[0] + w, top_left[1] + h)\n",
    "cv2.rectangle(img_gray,top_left, bottom_right, 255, 2)\n",
    "\n",
    "plt.imshow(img_gray, cmap='gray')"
   ]
  },
  {
   "cell_type": "markdown",
   "id": "248706a7-c2d3-4364-b051-3e4e5a6e8932",
   "metadata": {},
   "source": [
    "So that works! We can pretty easily find the stop sign in the image based on the basic template. But of course there are some major caveats.\n",
    "\n",
    "1. What we are looking for needs to have a consistent size in the image\n",
    "2. The thing we are searching for needs to have a pretty consistent shape\n",
    "3. Different perspectives of the image is likely going to throw off our matching\n",
    "\n",
    "So clearly this approach will only work in a handful of situations, so how do we make our system more robust?\n",
    "\n",
    "If only there was a way to learn a better, more complex representation, of a template to apply to our image."
   ]
  },
  {
   "cell_type": "code",
   "execution_count": null,
   "id": "2c728024-5d5c-4f34-8780-130741f709e6",
   "metadata": {},
   "outputs": [],
   "source": []
  }
 ],
 "metadata": {
  "kernelspec": {
   "display_name": "Python 3 (ipykernel)",
   "language": "python",
   "name": "python3"
  },
  "language_info": {
   "codemirror_mode": {
    "name": "ipython",
    "version": 3
   },
   "file_extension": ".py",
   "mimetype": "text/x-python",
   "name": "python",
   "nbconvert_exporter": "python",
   "pygments_lexer": "ipython3",
   "version": "3.10.12"
  }
 },
 "nbformat": 4,
 "nbformat_minor": 5
}
